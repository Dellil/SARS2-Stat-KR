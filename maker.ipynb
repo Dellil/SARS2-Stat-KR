{
 "cells": [
  {
   "cell_type": "code",
   "execution_count": 1,
   "metadata": {},
   "outputs": [],
   "source": [
    "from util.table import table\n",
    "from util.region import *\n",
    "from util.Daegu import Daegu\n",
    "from util.Gangwon import Gangwon\n",
    "from util.Seoul import Seoul\n",
    "from util.KST import kst_time\n",
    "from util.collector import collector"
   ]
  },
  {
   "cell_type": "code",
   "execution_count": 2,
   "metadata": {},
   "outputs": [],
   "source": [
    "from IPython.display import display, Markdown, Latex"
   ]
  },
  {
   "cell_type": "code",
   "execution_count": 3,
   "metadata": {},
   "outputs": [],
   "source": [
    "table = table()"
   ]
  },
  {
   "cell_type": "code",
   "execution_count": 4,
   "metadata": {},
   "outputs": [],
   "source": [
    "regions = [Seoul().collect, \n",
    "               Daegu().collect,    \n",
    "               busan,   \n",
    "               daejeon,\n",
    "               gwangju,\n",
    "               ulsan,\n",
    "               incheon,\n",
    "               sejong,\n",
    "               gyeongbuk,\n",
    "               gyeongnam,\n",
    "               gyeonggi, \n",
    "               chungbuk,\n",
    "               chungnam,\n",
    "               gangwon,\n",
    "               jeonbuk,\n",
    "               jeonnam,\n",
    "               jeju,\n",
    "        ]"
   ]
  },
  {
   "cell_type": "code",
   "execution_count": 5,
   "metadata": {},
   "outputs": [
    {
     "name": "stdout",
     "output_type": "stream",
     "text": [
      "# 강남구 : 13\n",
      "# 강동구 : 5\n",
      "# 강북구 : 5\n",
      "# 강서구 : 13\n"
     ]
    },
    {
     "name": "stderr",
     "output_type": "stream",
     "text": [
      "Some characters could not be decoded, and were replaced with REPLACEMENT CHARACTER.\n"
     ]
    },
    {
     "name": "stdout",
     "output_type": "stream",
     "text": [
      "# 관악구 : 16\n",
      "# 광진구 : 2\n",
      "# 구로구 : 15\n",
      "# 금천구 : 5\n",
      "# 노원구 : 14\n",
      "# 도봉구 : 1\n",
      "# 동대문구 : 22\n",
      "# 동작구 : 6\n",
      "# 마포구 : 7\n",
      "# 서대문구 : 6\n",
      "# 서초구 : 7\n",
      "# 성동구 : 3\n",
      "# 성북구 : 9\n",
      "# 송파구 : 15\n",
      "# 양천구 : 14\n",
      "# 영등포구 : 8\n"
     ]
    },
    {
     "name": "stderr",
     "output_type": "stream",
     "text": [
      "C:\\Users\\LK-LAB\\Miniconda3\\lib\\site-packages\\urllib3\\connectionpool.py:1004: InsecureRequestWarning: Unverified HTTPS request is being made to host 'www.ydp.go.kr'. Adding certificate verification is strongly advised. See: https://urllib3.readthedocs.io/en/latest/advanced-usage.html#ssl-warnings\n",
      "  InsecureRequestWarning,\n"
     ]
    },
    {
     "name": "stdout",
     "output_type": "stream",
     "text": [
      "# 용산구 : 2\n",
      "# 은평구 : 16\n",
      "# 종로구 : 11\n",
      "# 중구 : 1\n",
      "# 중랑구 : 4\n",
      "# 기타 : 17\n",
      "pass :  서울\n",
      "#  북구 :  708\n",
      "#  달서구 :  1505\n",
      "#  남구 :  1314\n",
      "#  서구 :  386\n",
      "#  수성구 :  937\n",
      "#  중구 :  227\n",
      "#  동구 :  600\n",
      "#  달성군 :  368\n",
      "pass :  대구\n",
      "pass :  부산\n",
      "pass :  대전\n",
      "pass :  광주\n",
      "pass :  울산\n",
      "pass :  인천\n",
      "pass :  세종\n",
      "pass :  경상북도\n",
      "pass :  경상남도\n",
      "pass :  경기도\n",
      "pass :  충청북도\n",
      "pass :  충청남도\n",
      "pass :  강원도\n",
      "pass :  전라북도\n",
      "pass :  전라남도\n",
      "pass :  제주도\n"
     ]
    }
   ],
   "source": [
    "data = collector(regions)"
   ]
  },
  {
   "cell_type": "code",
   "execution_count": 7,
   "metadata": {},
   "outputs": [
    {
     "name": "stdout",
     "output_type": "stream",
     "text": [
      "Save\n"
     ]
    },
    {
     "data": {
      "text/markdown": [
       "\n",
       "\n",
       "|  지역  | 확진자 |  격리자  |  사망  |  의사환자  |  검사중  |  결과음성  |  자가격리자  |  감시중  |  감시해제  |  퇴원  |\n",
       "|:------:|:------:|:--------:|:--------:|:----------:|:--------:|:----------------:|:------------:|:--------:|:----------:|:--:|\n",
       "|**총합**|**8,046**|**7,426**|**66**|**75,783**|**8,515**|**89,688**|**18,483**|**5,378**|**13,439**|**554**|\n",
       "|서울|238|199|0|40,287|3,910|36,377|5,676|1,988|3,688|39|\n",
       "|대구|6,045|5,695|46|-|-|-|8,129|-|-|304|\n",
       "|부산|96|58|-|-|-|-|-|-|-|38|\n",
       "|대전|22|18|0|-|160|5,614|115|115|346|4|\n",
       "|광주|15|12|-|4,393|50|4,343|1,111|264|847|3|\n",
       "|울산|27|22|-|4,994|110|4,884|394|109|285|5|\n",
       "|인천|27|25|-|12,656|399|12,257|-|-|-|2|\n",
       "|세종|38|38|-|-|260|2,253|-|-|-|-|\n",
       "|경상북도|1,088|971|18|-|736|49|-|2,753|6,631|99|\n",
       "|경상남도|78|74|-|6,827|536|6,291|844|-|-|4|\n",
       "|경기도|185|151|2|-|-|-|-|-|-|32|\n",
       "|충청북도|28|24|-|6,626|229|6,397|1,577|121|1,456|4|\n",
       "|충청남도|115|107|0|-|1,514|9,783|387|-|-|8|\n",
       "|강원도|29|23|-|-|530|-|167|-|-|6|\n",
       "|전라북도|7|3|-|-|-|-|15|-|-|4|\n",
       "|전라남도|4|3|-|-|31|1,440|-|28|186|1|\n",
       "|제주도|4|3|0|-|50|-|68|-|-|1|\n",
       "|**총합**|**8,046**|**7,426**|**66**|**75,783**|**8,515**|**89,688**|**18,483**|**5,378**|**13,439**|**554**|\n",
       "|**총합**|**8,046**|**7,426**|**66**|**75,783**|**8,515**|**89,688**|**18,483**|**5,378**|**13,439**|**554**|\n",
       "|서울|238|199|0|40,287|3,910|36,377|5,676|1,988|3,688|39|\n",
       "|대구|6,045|5,695|46|-|-|-|8,129|-|-|304|\n",
       "|부산|96|58|-|-|-|-|-|-|-|38|\n",
       "|대전|22|18|0|-|160|5,614|115|115|346|4|\n",
       "|광주|15|12|-|4,393|50|4,343|1,111|264|847|3|\n",
       "|울산|27|22|-|4,994|110|4,884|394|109|285|5|\n",
       "|인천|27|25|-|12,656|399|12,257|-|-|-|2|\n",
       "|세종|38|38|-|-|260|2,253|-|-|-|-|\n",
       "|경상북도|1,088|971|18|-|736|49|-|2,753|6,631|99|\n",
       "|경상남도|78|74|-|6,827|536|6,291|844|-|-|4|\n",
       "|경기도|185|151|2|-|-|-|-|-|-|32|\n",
       "|충청북도|28|24|-|6,626|229|6,397|1,577|121|1,456|4|\n",
       "|충청남도|115|107|0|-|1,514|9,783|387|-|-|8|\n",
       "|강원도|29|23|-|-|530|-|167|-|-|6|\n",
       "|전라북도|7|3|-|-|-|-|15|-|-|4|\n",
       "|전라남도|4|3|-|-|31|1,440|-|28|186|1|\n",
       "|제주도|4|3|0|-|50|-|68|-|-|1|\n",
       "|**총합**|**8,046**|**7,426**|**66**|**75,783**|**8,515**|**89,688**|**18,483**|**5,378**|**13,439**|**554**|\n",
       "\n"
      ],
      "text/plain": [
       "<IPython.core.display.Markdown object>"
      ]
     },
     "metadata": {},
     "output_type": "display_data"
    }
   ],
   "source": [
    "display(Markdown('''\n",
    "{}\n",
    "'''.format(table.generate(data))))"
   ]
  },
  {
   "cell_type": "code",
   "execution_count": 8,
   "metadata": {},
   "outputs": [],
   "source": [
    "readme = open('README.md', mode='wt', encoding='utf-8')\n",
    "readme.write('''\n",
    "## 대한민국 우한 코로나 바이러스 감염자 실시간 통계\n",
    "{0} KST\n",
    "\n",
    "** 부산, 경상북도 홈페이지에 표시된 수치가 질병관리본부 발표보다 적습니다. **\n",
    "\n",
    "각 **시/도/구/군청** 사이트에 공개되어 있는 **공식 자료**를 수합하여 만든 통계입니다.\n",
    "질병관리본부에서 발표되는 공식 수치와는 다를 수 있습니다.\n",
    "\n",
    "{1}\n",
    "\n",
    "#1 확진자(중국인) 제외\n",
    "'''.format(kst_time(), table.Chart))\n",
    "readme.close()"
   ]
  },
  {
   "cell_type": "code",
   "execution_count": null,
   "metadata": {},
   "outputs": [],
   "source": [
    "#region_list = [seoul(), \n",
    "#               Daegu().collect(),    \n",
    "#               busan(),   \n",
    "#               daejeon(),\n",
    "#               gwangju(infected=13, quarantine=9, self_quarantine=1, care=3),\n",
    "#               ulsan(),\n",
    "#               incheon(),\n",
    "#               sejong(),\n",
    "#               gyeongbuk(),\n",
    "#               gyeongnam(),\n",
    "#               gyeonggi(), \n",
    "#               chungbuk(),\n",
    "#               chungnam(),\n",
    "#               gangwon(),\n",
    "#               jeonbuk(),\n",
    "#               jeonnam(),\n",
    "#               jeju(),\n",
    "#        ]"
   ]
  },
  {
   "cell_type": "code",
   "execution_count": null,
   "metadata": {},
   "outputs": [],
   "source": []
  }
 ],
 "metadata": {
  "kernelspec": {
   "display_name": "Python 3",
   "language": "python",
   "name": "python3"
  },
  "language_info": {
   "codemirror_mode": {
    "name": "ipython",
    "version": 3
   },
   "file_extension": ".py",
   "mimetype": "text/x-python",
   "name": "python",
   "nbconvert_exporter": "python",
   "pygments_lexer": "ipython3",
   "version": "3.7.6"
  }
 },
 "nbformat": 4,
 "nbformat_minor": 4
}
