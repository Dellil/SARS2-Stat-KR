{
 "cells": [
  {
   "cell_type": "code",
   "execution_count": null,
   "metadata": {},
   "outputs": [],
   "source": [
    "from util.mk_table import Mk_table\n",
    "from util.region import *\n",
    "from util.Daegu import Daegu\n",
    "from util.Gangwon import Gangwon\n",
    "from util.Seoul import Seoul\n",
    "from util.KST import kst_time"
   ]
  },
  {
   "cell_type": "code",
   "execution_count": null,
   "metadata": {},
   "outputs": [],
   "source": [
    "from IPython.display import display, Markdown, Latex\n",
    "table = Mk_table()\n",
    "region_list = [seoul(), \n",
    "               Daegu().collect(),    \n",
    "               busan(),   \n",
    "               daejeon(),\n",
    "               gwangju(infected=12, quarantine=9, self_quarantine=1, care=2),\n",
    "               ulsan(),\n",
    "               incheon(),\n",
    "               sejong(),\n",
    "               gyeongbuk(),\n",
    "               gyeongnam(),\n",
    "               gyeonggi(), \n",
    "               chungbuk(),\n",
    "               chungnam(),\n",
    "               Gangwon().collect(suspect=4018, testing=1167, negative=2831),\n",
    "               jeonbuk(),\n",
    "               jeonnam(),\n",
    "               jeju(),\n",
    "        ]\n",
    "display(Markdown('''\n",
    "{}\n",
    "'''.format(table.generate(region_list))))"
   ]
  },
  {
   "cell_type": "code",
   "execution_count": null,
   "metadata": {},
   "outputs": [],
   "source": [
    " readme = open('README.md', mode='wt', encoding='utf-8')\n",
    "readme.write('''\n",
    "## 대한민국 우한 코로나 바이러스 감염자 실시간 통계\n",
    "{0} KST\n",
    "\n",
    "** 부산, 경상북도 홈페이지에 표시된 수치가 질병관리본부 발표보다 적습니다. **\n",
    "\n",
    "각 **시/도/구/군청** 사이트에 공개되어 있는 **공식 자료**를 수합하여 만든 통계입니다.\n",
    "질병관리본부에서 발표되는 공식 수치와는 다를 수 있습니다.\n",
    "\n",
    "**이 통계에 대해 가짜정보라고 기사를 작성한 기자와 언론사를 상대로 언론중재위원회에 손해배상청구를 진행할 예정입니다**\n",
    "\n",
    "{1}\n",
    "\n",
    "#1 확진자(중국인) 제외\n",
    "'''.format(kst_time(), table.table))\n",
    "readme.close()"
   ]
  },
  {
   "cell_type": "code",
   "execution_count": null,
   "metadata": {},
   "outputs": [],
   "source": [
    "Seoul().gangbuk_gu()"
   ]
  },
  {
   "cell_type": "code",
   "execution_count": null,
   "metadata": {},
   "outputs": [],
   "source": []
  }
 ],
 "metadata": {
  "kernelspec": {
   "display_name": "Python 3",
   "language": "python",
   "name": "python3"
  },
  "language_info": {
   "codemirror_mode": {
    "name": "ipython",
    "version": 3
   },
   "file_extension": ".py",
   "mimetype": "text/x-python",
   "name": "python",
   "nbconvert_exporter": "python",
   "pygments_lexer": "ipython3",
   "version": "3.7.4-final"
  }
 },
 "nbformat": 4,
 "nbformat_minor": 2
}