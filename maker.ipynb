{
 "cells": [
  {
   "cell_type": "code",
   "execution_count": 1,
   "metadata": {},
   "outputs": [],
   "source": [
    "from util.table import table\n",
    "from util.region import *\n",
    "from util.Daegu import Daegu\n",
    "from util.Gangwon import Gangwon\n",
    "from util.Seoul import Seoul\n",
    "from util.KST import kst_time\n",
    "from util.collector import collector"
   ]
  },
  {
   "cell_type": "code",
   "execution_count": 2,
   "metadata": {},
   "outputs": [],
   "source": [
    "from IPython.display import display, Markdown, Latex"
   ]
  },
  {
   "cell_type": "code",
   "execution_count": 3,
   "metadata": {},
   "outputs": [],
   "source": [
    "table = table()"
   ]
  },
  {
   "cell_type": "code",
   "execution_count": 4,
   "metadata": {},
   "outputs": [],
   "source": [
    "regions = [Seoul().collect, \n",
    "               Daegu().collect,    \n",
    "               busan,   \n",
    "               daejeon,\n",
    "               gwangju,\n",
    "               ulsan,\n",
    "               incheon,\n",
    "               sejong,\n",
    "               gyeongbuk,\n",
    "               gyeongnam,\n",
    "               gyeonggi, \n",
    "               chungbuk,\n",
    "               chungnam,\n",
    "               gangwon,\n",
    "               jeonbuk,\n",
    "               jeonnam,\n",
    "               jeju,\n",
    "        ]"
   ]
  },
  {
   "cell_type": "code",
   "execution_count": 5,
   "metadata": {},
   "outputs": [
    {
     "name": "stdout",
     "output_type": "stream",
     "text": "# 강남구 : 12\n# 강동구 : 5\n# 강북구 : 4\n# 강서구 : 3\n# 관악구 : 6\n# 광진구 : 2\n# 구로구 : 8\n# 금천구 : 2\n# 노원구 : 9\n# 도봉구 : 1\n# 동대문구 : 11\n# 동작구 : 2\n# 마포구 : 1\n# 서대문구 : 4\n# 서초구 : 5\n# 성동구 : 3\n# 성북구 : 2\n# 송파구 : 12\n# 양천구 : 7\n# 영등포구 : 3\n# 용산구 : 1\n# 은평구 : 11\n# 종로구 : 11\n# 중구 : 0\n# 중랑구 : 2\n# 기타 : 13\npass :  서울\n#  북구 :  632\n#  달서구 :  1424\n#  남구 :  1266\n#  서구 :  360\n#  수성구 :  875\n#  중구 :  207\n#  동구 :  557\n#  달성군 :  361\npass :  대구\npass :  부산\npass :  대전\npass :  광주\npass :  울산\npass :  인천\npass :  세종\npass :  경상북도\npass :  경상남도\npass :  경기도\npass :  충청북도\npass :  충청남도\npass :  강원도\npass :  전라북도\npass :  전라남도\npass :  제주도\n"
    }
   ],
   "source": [
    "data = collector(regions)"
   ]
  },
  {
   "cell_type": "code",
   "execution_count": 6,
   "metadata": {},
   "outputs": [
    {
     "data": {
      "text/markdown": "\n\n|  지역  | 확진자 |  격리자  |  사망  |  의사환자  |  검사중  |  결과음성  |  자가격리자  |  감시중  |  감시해제  |  퇴원  |\n|:------:|:------:|:--------:|:--------:|:----------:|:--------:|:----------------:|:------------:|:--------:|:----------:|:--:|\n|**총합**|**7,428**|**7,147**|**50**|**56,709**|**11,504**|**62,872**|**24,236**|**8,690**|**7,475**|**229**|\n|서울|144|116|0|30,892|3,378|27,514|4,599|1,464|3,135|28|\n|대구|5,682|5,556|33|-|-|-|15,686|-|-|93|\n|부산|89|80|-|-|-|-|-|-|-|9|\n|대전|18|16|0|-|76|4,377|138|138|227|2|\n|광주|14|9|-|-|-|-|2|-|-|3|\n|울산|23|22|-|3,880|3,879|1|-|351|199|1|\n|인천|9|7|-|10,326|423|9,903|-|-|-|2|\n|세종|8|8|-|-|41|1,352|-|-|-|-|\n|경상북도|1,043|973|16|-|1,064|281|-|6,015|2,935|54|\n|경상남도|78|74|-|6,827|536|6,291|844|-|-|4|\n|경기도|151|127|1|-|-|-|-|-|-|23|\n|충청북도|24|24|-|4,784|276|4,508|1,474|685|789|-|\n|충청남도|102|102|-|-|1,118|7,561|874|-|-|-|\n|강원도|28|22|-|-|607|-|552|-|-|6|\n|전라북도|7|5|-|-|-|-|28|-|-|2|\n|전라남도|4|3|-|-|26|1,084|-|37|190|1|\n|제주도|4|3|0|-|80|-|39|-|-|1|\n|**총합**|**7,428**|**7,147**|**50**|**56,709**|**11,504**|**62,872**|**24,236**|**8,690**|**7,475**|**229**|\n\n",
      "text/plain": "<IPython.core.display.Markdown object>"
     },
     "metadata": {},
     "output_type": "display_data"
    }
   ],
   "source": [
    "display(Markdown('''\n",
    "{}\n",
    "'''.format(table.generate(data))))"
   ]
  },
  {
   "cell_type": "code",
   "execution_count": 7,
   "metadata": {},
   "outputs": [],
   "source": [
    "readme = open('README.md', mode='wt', encoding='utf-8')\n",
    "readme.write('''\n",
    "## 대한민국 우한 코로나 바이러스 감염자 실시간 통계\n",
    "{0} KST\n",
    "\n",
    "** 부산, 경상북도 홈페이지에 표시된 수치가 질병관리본부 발표보다 적습니다. **\n",
    "\n",
    "각 **시/도/구/군청** 사이트에 공개되어 있는 **공식 자료**를 수합하여 만든 통계입니다.\n",
    "질병관리본부에서 발표되는 공식 수치와는 다를 수 있습니다.\n",
    "\n",
    "{1}\n",
    "\n",
    "#1 확진자(중국인) 제외\n",
    "'''.format(kst_time(), table.Chart))\n",
    "readme.close()"
   ]
  },
  {
   "cell_type": "code",
   "execution_count": null,
   "metadata": {},
   "outputs": [],
   "source": [
    "#region_list = [seoul(), \n",
    "#               Daegu().collect(),    \n",
    "#               busan(),   \n",
    "#               daejeon(),\n",
    "#               gwangju(infected=13, quarantine=9, self_quarantine=1, care=3),\n",
    "#               ulsan(),\n",
    "#               incheon(),\n",
    "#               sejong(),\n",
    "#               gyeongbuk(),\n",
    "#               gyeongnam(),\n",
    "#               gyeonggi(), \n",
    "#               chungbuk(),\n",
    "#               chungnam(),\n",
    "#               gangwon(),\n",
    "#               jeonbuk(),\n",
    "#               jeonnam(),\n",
    "#               jeju(),\n",
    "#        ]"
   ]
  },
  {
   "cell_type": "code",
   "execution_count": null,
   "metadata": {},
   "outputs": [],
   "source": []
  }
 ],
 "metadata": {
  "kernelspec": {
   "display_name": "Python 3",
   "language": "python",
   "name": "python3"
  },
  "language_info": {
   "codemirror_mode": {
    "name": "ipython",
    "version": 3
   },
   "file_extension": ".py",
   "mimetype": "text/x-python",
   "name": "python",
   "nbconvert_exporter": "python",
   "pygments_lexer": "ipython3",
   "version": "3.7.6-final"
  }
 },
 "nbformat": 4,
 "nbformat_minor": 4
}