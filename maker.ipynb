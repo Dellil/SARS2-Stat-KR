{
 "cells": [
  {
   "cell_type": "code",
   "execution_count": 1,
   "metadata": {},
   "outputs": [],
   "source": [
    "from util.table import table\n",
    "from util.region import *\n",
    "from util.Daegu import Daegu\n",
    "# from util.Gangwon import Gangwon\n",
    "from util.Seoul import Seoul\n",
    "from util.KST import kst_time\n",
    "from util.collector import collector"
   ]
  },
  {
   "cell_type": "code",
   "execution_count": 2,
   "metadata": {},
   "outputs": [],
   "source": [
    "from IPython.display import display, Markdown, Latex"
   ]
  },
  {
   "cell_type": "code",
   "execution_count": 3,
   "metadata": {},
   "outputs": [],
   "source": [
    "chart = table()"
   ]
  },
  {
   "cell_type": "code",
   "execution_count": 4,
   "metadata": {},
   "outputs": [],
   "source": [
    "regions = [Seoul().collect, \n",
    "               Daegu().collect,    \n",
    "               busan,   \n",
    "               daejeon,\n",
    "               gwangju,\n",
    "               ulsan,\n",
    "               incheon,\n",
    "               sejong,\n",
    "               gyeongbuk,\n",
    "               gyeongnam,\n",
    "               gyeonggi, \n",
    "               chungbuk,\n",
    "               chungnam,\n",
    "               gangwon,\n",
    "               jeonbuk,\n",
    "               jeonnam,\n",
    "               jeju,\n",
    "               foreign,\n",
    "        ]"
   ]
  },
  {
   "cell_type": "code",
   "execution_count": 5,
   "metadata": {},
   "outputs": [
    {
     "name": "stdout",
     "output_type": "stream",
     "text": [
      "# 강남구 : 34\n",
      "# 강동구 : 9\n",
      "# 강북구 : 5\n",
      "# 강서구 : 22\n"
     ]
    },
    {
     "name": "stderr",
     "output_type": "stream",
     "text": [
      "Some characters could not be decoded, and were replaced with REPLACEMENT CHARACTER.\n"
     ]
    },
    {
     "name": "stdout",
     "output_type": "stream",
     "text": [
      "# 관악구 : 20\n",
      "# 광진구 : 4\n",
      "# 구로구 : 29\n",
      "# 금천구 : 8\n",
      "# 노원구 : 22\n",
      "# 도봉구 : 5\n",
      "# 동대문구 : 26\n",
      "# 동작구 : 19\n",
      "# 마포구 : 14\n",
      "# 서대문구 : 12\n",
      "# 서초구 : 17\n",
      "# 성동구 : 6\n",
      "# 성북구 : 16\n",
      "# 송파구 : 22\n",
      "# 양천구 : 17\n",
      "# 영등포구 : 21\n"
     ]
    },
    {
     "name": "stderr",
     "output_type": "stream",
     "text": [
      "C:\\Users\\LK-LAB\\Miniconda3\\lib\\site-packages\\urllib3\\connectionpool.py:1004: InsecureRequestWarning: Unverified HTTPS request is being made to host 'www.ydp.go.kr'. Adding certificate verification is strongly advised. See: https://urllib3.readthedocs.io/en/latest/advanced-usage.html#ssl-warnings\n",
      "  InsecureRequestWarning,\n"
     ]
    },
    {
     "name": "stdout",
     "output_type": "stream",
     "text": [
      "# 용산구 : 8\n",
      "# 은평구 : 21\n",
      "# 종로구 : 14\n",
      "# 중구 : 2\n",
      "# 중랑구 : 13\n",
      "# 기타 : 22\n",
      "pass :  서울\n",
      "#  북구 :  778\n",
      "#  달서구 :  1587\n",
      "#  남구 :  1356\n",
      "#  서구 :  507\n",
      "#  수성구 :  1018\n",
      "#  중구 :  246\n",
      "#  동구 :  667\n",
      "#  달성군 :  538\n",
      "pass :  대구\n",
      "pass :  부산\n",
      "pass :  대전\n",
      "pass :  광주\n",
      "pass :  울산\n",
      "pass :  인천\n",
      "pass :  세종\n",
      "pass :  경상북도\n",
      "pass :  경상남도\n",
      "pass :  경기도\n",
      "pass :  충청북도\n",
      "pass :  충청남도\n",
      "pass :  강원도\n",
      "pass :  전라북도\n",
      "pass : "
     ]
    },
    {
     "name": "stderr",
     "output_type": "stream",
     "text": [
      "C:\\Users\\LK-LAB\\Miniconda3\\lib\\site-packages\\urllib3\\connectionpool.py:1004: InsecureRequestWarning: Unverified HTTPS request is being made to host 'www.jeonnam.go.kr'. Adding certificate verification is strongly advised. See: https://urllib3.readthedocs.io/en/latest/advanced-usage.html#ssl-warnings\n",
      "  InsecureRequestWarning,\n"
     ]
    },
    {
     "name": "stdout",
     "output_type": "stream",
     "text": [
      " 전라남도\n",
      "pass :  제주도\n",
      "pass :  검역\n"
     ]
    }
   ],
   "source": [
    "data = collector(regions)"
   ]
  },
  {
   "cell_type": "code",
   "execution_count": 6,
   "metadata": {},
   "outputs": [
    {
     "name": "stdout",
     "output_type": "stream",
     "text": [
      "Save\n"
     ]
    },
    {
     "data": {
      "text/markdown": [
       "\n",
       "\n",
       "|  지역  | 확진자 |  격리자  |  사망  |  의심환자  |  검사중  |  결과음성  |  자가격리자  |  감시중  |  감시해제  |  퇴원  |\n",
       "|:------:|:------:|:--------:|:--------:|:----------:|:--------:|:----------------:|:------------:|:--------:|:----------:|:--:|\n",
       "|**총합**|**9,572**|**4,569**|**145**|**121,803**|**8,388**|**152,533**|**14,987**|**4,735**|**19,931**|**4,803**|\n",
       "|서울|408|316|0|67,478|4,232|63,246|8,800|2,216|6,584|92|\n",
       "|대구|6,697|2,996|98|-|-|-|1,937|-|-|3,603|\n",
       "|부산|112|28|3|-|-|-|-|-|-|81|\n",
       "|대전|31|17|0|-|109|8,210|169|169|504|14|\n",
       "|광주|20|9|-|6,854|27|6,807|1,203|61|1,142|11|\n",
       "|울산|39|20|-|6,961|75|6,886|480|76|404|19|\n",
       "|인천|54|52|-|18,081|363|17,718|-|-|-|2|\n",
       "|세종|46|46|-|-|49|4,003|-|-|-|-|\n",
       "|경상북도|1,285|543|39|-|1,780|198|-|1,905|9,384|648|\n",
       "|경상남도|88|26|-|12,621|364|12,257|-|-|-|62|\n",
       "|경기도|434|292|5|-|-|-|-|-|-|137|\n",
       "|충청북도|41|20|-|9,808|195|9,613|1,931|237|1,694|21|\n",
       "|충청남도|126|45|0|-|464|16,908|156|-|-|81|\n",
       "|강원도|33|13|-|-|366|-|153|-|-|20|\n",
       "|전라북도|11|4|-|-|-|-|40|-|-|7|\n",
       "|전라남도|8|7|-|-|240|6,687|-|71|219|1|\n",
       "|제주도|8|4|0|-|124|-|118|-|-|4|\n",
       "|검역|131|131|-|-|-|-|-|-|-|-|\n",
       "|**총합**|**9,572**|**4,569**|**145**|**121,803**|**8,388**|**152,533**|**14,987**|**4,735**|**19,931**|**4,803**|\n",
       "\n"
      ],
      "text/plain": [
       "<IPython.core.display.Markdown object>"
      ]
     },
     "metadata": {},
     "output_type": "display_data"
    }
   ],
   "source": [
    "display(Markdown('''\n",
    "{}\n",
    "'''.format(chart.generate(data))))"
   ]
  },
  {
   "cell_type": "code",
   "execution_count": 7,
   "metadata": {},
   "outputs": [],
   "source": [
    "readme = open('README.md', mode='wt', encoding='utf-8')\n",
    "readme.write('''\n",
    "## 중국 우한 바이러스(SARS-CoV-2) 대한민국 확진자 통계\n",
    "### Confirmed cases of China-Virus in Korea\n",
    "{0} KST\n",
    "\n",
    "각 **시/도/구/군청** 사이트에 공개되어 있는 **공식 자료**를 수합하여 만든 통계입니다.\n",
    "질병관리본부에서 발표되는 공식 수치와는 다를 수 있습니다.\n",
    "\n",
    "{1}\n",
    "\n",
    "** 부산, 경상북도 홈페이지에 표시된 수치가 질병관리본부 발표보다 적습니다. **<br>\n",
    "#1 확진자(중국인) 제외\n",
    "'''.format(kst_time(), chart.Chart))\n",
    "readme.close()"
   ]
  },
  {
   "cell_type": "code",
   "execution_count": null,
   "metadata": {},
   "outputs": [],
   "source": [
    "#region_list = [seoul(), \n",
    "#               Daegu().collect(),    \n",
    "#               busan(),   \n",
    "#               daejeon(),\n",
    "#               gwangju(infected=13, quarantine=9, self_quarantine=1, care=3),\n",
    "#               ulsan(),\n",
    "#               incheon(),\n",
    "#               sejong(),\n",
    "#               gyeongbuk(),\n",
    "#               gyeongnam(),\n",
    "#               gyeonggi(), \n",
    "#               chungbuk(),\n",
    "#               chungnam(),\n",
    "#               gangwon(),\n",
    "#               jeonbuk(),\n",
    "#               jeonnam(),\n",
    "#               jeju(),\n",
    "#        ]"
   ]
  },
  {
   "cell_type": "code",
   "execution_count": null,
   "metadata": {},
   "outputs": [],
   "source": []
  }
 ],
 "metadata": {
  "kernelspec": {
   "display_name": "Python 3",
   "language": "python",
   "name": "python3"
  },
  "language_info": {
   "codemirror_mode": {
    "name": "ipython",
    "version": 3
   },
   "file_extension": ".py",
   "mimetype": "text/x-python",
   "name": "python",
   "nbconvert_exporter": "python",
   "pygments_lexer": "ipython3",
   "version": "3.7.6"
  }
 },
 "nbformat": 4,
 "nbformat_minor": 4
}
