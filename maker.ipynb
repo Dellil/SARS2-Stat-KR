{
 "cells": [
  {
   "cell_type": "code",
   "execution_count": 1,
   "metadata": {},
   "outputs": [],
   "source": [
    "from util.table import table\n",
    "from util.region import *\n",
    "from util.Daegu import Daegu\n",
    "# from util.Gangwon import Gangwon\n",
    "from util.Seoul import Seoul\n",
    "from util.KST import kst_time\n",
    "from util.collector import collector"
   ]
  },
  {
   "cell_type": "code",
   "execution_count": 2,
   "metadata": {},
   "outputs": [],
   "source": [
    "from IPython.display import display, Markdown, Latex"
   ]
  },
  {
   "cell_type": "code",
   "execution_count": 3,
   "metadata": {},
   "outputs": [],
   "source": [
    "chart = table()"
   ]
  },
  {
   "cell_type": "code",
   "execution_count": 4,
   "metadata": {},
   "outputs": [],
   "source": [
    "regions = [Seoul().collect, \n",
    "               Daegu().collect,    \n",
    "               busan,   \n",
    "               daejeon,\n",
    "               gwangju,\n",
    "               ulsan,\n",
    "               incheon,\n",
    "               sejong,\n",
    "               gyeongbuk,\n",
    "               gyeongnam,\n",
    "               gyeonggi, \n",
    "               chungbuk,\n",
    "               chungnam,\n",
    "               gangwon,\n",
    "               jeonbuk,\n",
    "               jeonnam,\n",
    "               jeju,\n",
    "               foreign,\n",
    "        ]"
   ]
  },
  {
   "cell_type": "code",
   "execution_count": 5,
   "metadata": {},
   "outputs": [
    {
     "output_type": "stream",
     "name": "stdout",
     "text": "# 강남구 : 59\n# 강동구 : 13\n# 강북구 : 5\n# 강서구 : 25\n# 관악구 : 42\n# 광진구 : 6\n# 구로구 : 35\n# 금천구 : 12\n# 노원구 : 25\n# 도봉구 : 8\n# 동대문구 : 31\n# 동작구 : 29\n# 마포구 : 21\n# 서대문구 : 17\n# 서초구 : 28\n# 성동구 : 12\n# 성북구 : 21\n# 송파구 : 36\n# 양천구 : 21\n# 영등포구 : 28\n# 용산구 : 13\n# 은평구 : 26\n# 종로구 : 16\n# 중구 : 5\n# 중랑구 : 16\n# 기타 : 42\npass :  서울\n#  북구 :  786\n#  달서구 :  1605\n#  남구 :  1360\n#  서구 :  538\n#  수성구 :  1049\n#  중구 :  248\n#  동구 :  681\n#  달성군 :  664\npass :  대구\npass :  부산\npass :  대전\npass :  광주\npass :  울산\npass :  인천\npass :  세종\npass :  경상북도\npass :  경상남도\npass :  경기도\npass :  충청북도\npass :  충청남도\npass :  강원도\npass :  전라북도\npass :  전라남도\npass :  제주도\npass :  검역\n"
    }
   ],
   "source": [
    "data = collector(regions)"
   ]
  },
  {
   "cell_type": "code",
   "execution_count": 6,
   "metadata": {},
   "outputs": [
    {
     "output_type": "stream",
     "name": "stdout",
     "text": "Save\n"
    },
    {
     "output_type": "display_data",
     "data": {
      "text/plain": "<IPython.core.display.Markdown object>",
      "text/markdown": "\n\n|  지역  | 확진자 |  격리자  |  사망  |  의심환자  |  검사중  |  결과음성  |  자가격리자  |  감시중  |  감시해제  |  퇴원  |\n|:------:|:------:|:--------:|:--------:|:----------:|:--------:|:----------------:|:------------:|:--------:|:----------:|:--:|\n|**총합**|**10,577**|**3,090**|**210**|**165,414**|**7,986**|**201,008**|**27,432**|**8,485**|**28,733**|**7,236**|\n|서울|592|398|2|90,896|5,018|85,878|14,345|4,433|9,912|194|\n|대구|6,931|1,439|141|-|-|-|2,580|-|-|5,351|\n|부산|123|21|3|-|-|-|-|-|-|99|\n|대전|39|16|0|-|86|10,528|116|116|799|23|\n|광주|27|9|-|9,581|51|9,503|1,209|7|1,202|18|\n|울산|40|8|1|8,817|95|8,722|4,095|929|3,166|32|\n|인천|86|86|-|25,490|611|24,879|-|-|-|-|\n|세종|46|26|-|-|39|-|390|-|-|20|\n|경상북도|1,330|283|52|-|513|29|-|904|11,044|951|\n|경상남도|111|31|-|16,651|256|16,395|-|-|-|80|\n|경기도|624|323|11|-|-|-|-|-|-|290|\n|충청북도|45|17|-|13,979|123|13,856|3,227|1,065|2,162|28|\n|충청남도|138|32|0|-|383|21,335|145|-|-|106|\n|강원도|49|21|-|-|323|-|1,253|-|-|28|\n|전라북도|17|9|-|-|-|-|-|-|-|8|\n|전라남도|15|14|-|-|416|9,883|-|1,031|448|1|\n|제주도|12|8|0|-|72|-|72|-|-|4|\n|검역|352|349|-|-|-|-|-|-|-|3|\n|**총합**|**10,577**|**3,090**|**210**|**165,414**|**7,986**|**201,008**|**27,432**|**8,485**|**28,733**|**7,236**|\n\n"
     },
     "metadata": {}
    }
   ],
   "source": [
    "display(Markdown('''\n",
    "{}\n",
    "'''.format(chart.generate(data))))"
   ]
  },
  {
   "cell_type": "code",
   "execution_count": 7,
   "metadata": {},
   "outputs": [],
   "source": [
    "readme = open('README.md', mode='wt', encoding='utf-8')\n",
    "readme.write('''\n",
    "## 중공 바이러스[CCP Virus](SARS-CoV-2) 대한민국 확진자 통계\n",
    "### Confirmed cases of China-Virus in Korea\n",
    "{0} KST\n",
    "\n",
    "각 **시/도/구/군청** 사이트에 공개되어 있는 **공식 자료**를 수합하여 만든 통계입니다.\n",
    "질병관리본부에서 발표되는 공식 수치와는 다를 수 있습니다.\n",
    "\n",
    "{1}\n",
    "\n",
    "** 부산, 경상남도 홈페이지에 표시된 수치가 질병관리본부 발표보다 적습니다. **<br>\n",
    "#1 확진자(중국인) 제외\n",
    "'''.format(kst_time(), chart.Chart))\n",
    "readme.close()"
   ]
  },
  {
   "cell_type": "code",
   "execution_count": null,
   "metadata": {},
   "outputs": [],
   "source": [
    "#region_list = [seoul(), \n",
    "#               Daegu().collect(),    \n",
    "#               busan(),   \n",
    "#               daejeon(),\n",
    "#               gwangju(infected=13, quarantine=9, self_quarantine=1, care=3),\n",
    "#               ulsan(),\n",
    "#               incheon(),\n",
    "#               sejong(),\n",
    "#               gyeongbuk(),\n",
    "#               gyeongnam(),\n",
    "#               gyeonggi(), \n",
    "#               chungbuk(),\n",
    "#               chungnam(),\n",
    "#               gangwon(),\n",
    "#               jeonbuk(),\n",
    "#               jeonnam(),\n",
    "#               jeju(),\n",
    "#        ]"
   ]
  },
  {
   "cell_type": "code",
   "execution_count": null,
   "metadata": {},
   "outputs": [],
   "source": []
  }
 ],
 "metadata": {
  "kernelspec": {
   "display_name": "Python 3",
   "language": "python",
   "name": "python3"
  },
  "language_info": {
   "codemirror_mode": {
    "name": "ipython",
    "version": 3
   },
   "file_extension": ".py",
   "mimetype": "text/x-python",
   "name": "python",
   "nbconvert_exporter": "python",
   "pygments_lexer": "ipython3",
   "version": "3.7.6-final"
  }
 },
 "nbformat": 4,
 "nbformat_minor": 4
}