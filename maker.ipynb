{
 "cells": [
  {
   "cell_type": "code",
   "execution_count": 1,
   "metadata": {},
   "outputs": [],
   "source": [
    "from util.table import table\n",
    "from util.region import *\n",
    "from util.Daegu import Daegu\n",
    "from util.Gangwon import Gangwon\n",
    "from util.Seoul import Seoul\n",
    "from util.KST import kst_time\n",
    "from util.collector import collector"
   ]
  },
  {
   "cell_type": "code",
   "execution_count": 2,
   "metadata": {},
   "outputs": [],
   "source": [
    "from IPython.display import display, Markdown, Latex"
   ]
  },
  {
   "cell_type": "code",
   "execution_count": 3,
   "metadata": {},
   "outputs": [],
   "source": [
    "chart = table()"
   ]
  },
  {
   "cell_type": "code",
   "execution_count": 4,
   "metadata": {},
   "outputs": [],
   "source": [
    "regions = [Seoul().collect, \n",
    "               Daegu().collect,    \n",
    "               busan,   \n",
    "               daejeon,\n",
    "               gwangju,\n",
    "               ulsan,\n",
    "               incheon,\n",
    "               sejong,\n",
    "               gyeongbuk,\n",
    "               gyeongnam,\n",
    "               gyeonggi, \n",
    "               chungbuk,\n",
    "               chungnam,\n",
    "               gangwon,\n",
    "               jeonbuk,\n",
    "               jeonnam,\n",
    "               jeju,\n",
    "        ]"
   ]
  },
  {
   "cell_type": "code",
   "execution_count": 5,
   "metadata": {},
   "outputs": [
    {
     "name": "stdout",
     "output_type": "stream",
     "text": [
      "# 강남구 : 14\n",
      "# 강동구 : 5\n",
      "# 강북구 : 5\n",
      "# 강서구 : 13\n"
     ]
    },
    {
     "name": "stderr",
     "output_type": "stream",
     "text": [
      "Some characters could not be decoded, and were replaced with REPLACEMENT CHARACTER.\n"
     ]
    },
    {
     "name": "stdout",
     "output_type": "stream",
     "text": [
      "# 관악구 : 16\n",
      "# 광진구 : 2\n",
      "# 구로구 : 17\n",
      "# 금천구 : 5\n",
      "# 노원구 : 14\n",
      "# 도봉구 : 2\n",
      "# 동대문구 : 22\n",
      "# 동작구 : 6\n",
      "# 마포구 : 8\n",
      "# 서대문구 : 6\n",
      "# 서초구 : 9\n",
      "# 성동구 : 3\n",
      "# 성북구 : 9\n",
      "# 송파구 : 15\n",
      "# 양천구 : 14\n",
      "# 영등포구 : 10\n"
     ]
    },
    {
     "name": "stderr",
     "output_type": "stream",
     "text": [
      "C:\\Users\\LK-LAB\\Miniconda3\\lib\\site-packages\\urllib3\\connectionpool.py:1004: InsecureRequestWarning: Unverified HTTPS request is being made to host 'www.ydp.go.kr'. Adding certificate verification is strongly advised. See: https://urllib3.readthedocs.io/en/latest/advanced-usage.html#ssl-warnings\n",
      "  InsecureRequestWarning,\n"
     ]
    },
    {
     "name": "stdout",
     "output_type": "stream",
     "text": [
      "# 용산구 : 2\n",
      "# 은평구 : 16\n",
      "# 종로구 : 11\n",
      "# 중구 : 1\n",
      "# 중랑구 : 5\n",
      "# 기타 : 17\n",
      "pass :  서울\n",
      "#  북구 :  717\n",
      "#  달서구 :  1518\n",
      "#  남구 :  1316\n",
      "#  서구 :  393\n",
      "#  수성구 :  947\n",
      "#  중구 :  227\n",
      "#  동구 :  611\n",
      "#  달성군 :  369\n",
      "pass :  대구\n",
      "Error occured. Retry : busan\n",
      "pass :  부산\n",
      "pass :  대전\n",
      "pass :  광주\n",
      "pass :  울산\n",
      "pass :  인천\n",
      "pass :  세종\n",
      "pass :  경상북도\n",
      "pass :  경상남도\n",
      "pass :  경기도\n",
      "pass :  충청북도\n",
      "pass :  충청남도\n",
      "pass :  강원도\n",
      "pass :  전라북도\n",
      "pass :  전라남도\n",
      "pass :  제주도\n"
     ]
    }
   ],
   "source": [
    "data = collector(regions)"
   ]
  },
  {
   "cell_type": "code",
   "execution_count": 6,
   "metadata": {},
   "outputs": [
    {
     "name": "stdout",
     "output_type": "stream",
     "text": [
      "Save\n"
     ]
    },
    {
     "data": {
      "text/markdown": [
       "\n",
       "\n",
       "|  지역  | 확진자 |  격리자  |  사망  |  의사환자  |  검사중  |  결과음성  |  자가격리자  |  감시중  |  감시해제  |  퇴원  |\n",
       "|:------:|:------:|:--------:|:--------:|:----------:|:--------:|:----------------:|:------------:|:--------:|:----------:|:--:|\n",
       "|**총합**|**8,134**|**7,344**|**71**|**78,864**|**7,348**|**95,256**|**25,148**|**5,157**|**13,963**|**718**|\n",
       "|서울|248|205|0|42,233|4,136|38,097|5,904|2,121|3,783|43|\n",
       "|대구|6,098|5,642|49|-|-|-|14,642|-|-|407|\n",
       "|부산|98|47|-|-|-|-|-|-|-|50|\n",
       "|대전|22|18|0|-|176|5,928|108|108|357|4|\n",
       "|광주|15|12|-|4,619|50|4,569|1,111|173|938|3|\n",
       "|울산|27|20|-|5,177|115|5,062|394|86|308|7|\n",
       "|인천|28|26|-|13,020|345|12,675|-|-|-|2|\n",
       "|세종|39|39|-|-|22|2,576|-|-|-|-|\n",
       "|경상북도|1,091|938|19|-|578|27|-|2,535|6,920|134|\n",
       "|경상남도|78|74|-|6,827|536|6,291|844|-|-|4|\n",
       "|경기도|200|159|3|-|-|-|-|-|-|38|\n",
       "|충청북도|31|26|-|6,988|293|6,695|1,577|106|1,471|5|\n",
       "|충청남도|115|106|0|-|716|11,865|304|-|-|9|\n",
       "|강원도|29|23|-|-|312|-|191|-|-|6|\n",
       "|전라북도|7|3|-|-|-|-|10|-|-|4|\n",
       "|전라남도|4|3|-|-|18|1,471|-|28|186|1|\n",
       "|제주도|4|3|0|-|51|-|63|-|-|1|\n",
       "|**총합**|**8,134**|**7,344**|**71**|**78,864**|**7,348**|**95,256**|**25,148**|**5,157**|**13,963**|**718**|\n",
       "\n"
      ],
      "text/plain": [
       "<IPython.core.display.Markdown object>"
      ]
     },
     "metadata": {},
     "output_type": "display_data"
    }
   ],
   "source": [
    "display(Markdown('''\n",
    "{}\n",
    "'''.format(chart.generate(data))))"
   ]
  },
  {
   "cell_type": "code",
   "execution_count": 7,
   "metadata": {},
   "outputs": [],
   "source": [
    "readme = open('README.md', mode='wt', encoding='utf-8')\n",
    "readme.write('''\n",
    "## 중국 우한 바이러스(SARS-CoV-2) 대한민국 확진자 통계\n",
    "### Confirmed cases of China-Virus in Korea\n",
    "{0} KST\n",
    "\n",
    "각 **시/도/구/군청** 사이트에 공개되어 있는 **공식 자료**를 수합하여 만든 통계입니다.\n",
    "질병관리본부에서 발표되는 공식 수치와는 다를 수 있습니다.\n",
    "\n",
    "{1}\n",
    "\n",
    "** 부산, 경상북도 홈페이지에 표시된 수치가 질병관리본부 발표보다 적습니다. **<br>\n",
    "#1 확진자(중국인) 제외\n",
    "'''.format(kst_time(), chart.Chart))\n",
    "readme.close()"
   ]
  },
  {
   "cell_type": "code",
   "execution_count": null,
   "metadata": {},
   "outputs": [],
   "source": [
    "#region_list = [seoul(), \n",
    "#               Daegu().collect(),    \n",
    "#               busan(),   \n",
    "#               daejeon(),\n",
    "#               gwangju(infected=13, quarantine=9, self_quarantine=1, care=3),\n",
    "#               ulsan(),\n",
    "#               incheon(),\n",
    "#               sejong(),\n",
    "#               gyeongbuk(),\n",
    "#               gyeongnam(),\n",
    "#               gyeonggi(), \n",
    "#               chungbuk(),\n",
    "#               chungnam(),\n",
    "#               gangwon(),\n",
    "#               jeonbuk(),\n",
    "#               jeonnam(),\n",
    "#               jeju(),\n",
    "#        ]"
   ]
  },
  {
   "cell_type": "code",
   "execution_count": null,
   "metadata": {},
   "outputs": [],
   "source": []
  }
 ],
 "metadata": {
  "kernelspec": {
   "display_name": "Python 3",
   "language": "python",
   "name": "python3"
  },
  "language_info": {
   "codemirror_mode": {
    "name": "ipython",
    "version": 3
   },
   "file_extension": ".py",
   "mimetype": "text/x-python",
   "name": "python",
   "nbconvert_exporter": "python",
   "pygments_lexer": "ipython3",
   "version": "3.7.6"
  }
 },
 "nbformat": 4,
 "nbformat_minor": 4
}
