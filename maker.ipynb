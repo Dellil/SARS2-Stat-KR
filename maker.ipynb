{
 "cells": [
  {
   "cell_type": "code",
   "execution_count": 1,
   "metadata": {},
   "outputs": [],
   "source": [
    "from util.table import table\n",
    "from util.region import *\n",
    "from util.Daegu import Daegu\n",
    "from util.Incheon import Incheon  \n",
    "from util.Daejeon import Daejeon\n",
    "# from util.Gangwon import Gangwon\n",
    "from util.Seoul import Seoul\n",
    "from util.KST import kst_time\n",
    "from util.collector import collector"
   ]
  },
  {
   "cell_type": "code",
   "execution_count": 2,
   "metadata": {},
   "outputs": [],
   "source": [
    "from IPython.display import display, Markdown, Latex"
   ]
  },
  {
   "cell_type": "code",
   "execution_count": 3,
   "metadata": {},
   "outputs": [],
   "source": [
    "chart = table()"
   ]
  },
  {
   "cell_type": "code",
   "execution_count": 4,
   "metadata": {},
   "outputs": [],
   "source": [
    "regions = [Seoul().collect, \n",
    "               Daegu().collect,    \n",
    "               busan,   \n",
    "               Daejeon().collect,\n",
    "               #daejeon,\n",
    "               gwangju,\n",
    "               ulsan,\n",
    "               #Incheon().collect,\n",
    "               incheon,\n",
    "               sejong,\n",
    "               gyeongbuk,\n",
    "               gyeongnam,\n",
    "               gyeonggi, \n",
    "               chungbuk,\n",
    "               chungnam,\n",
    "               gangwon,\n",
    "               jeonbuk,\n",
    "               jeonnam,\n",
    "               jeju,\n",
    "               foreign,\n",
    "        ]"
   ]
  },
  {
   "cell_type": "code",
   "execution_count": 5,
   "metadata": {},
   "outputs": [
    {
     "output_type": "stream",
     "name": "stdout",
     "text": "# 강남구 : 59\n# 강동구 : 13\n# 강북구 : 5\n# 강서구 : 25\nSome characters could not be decoded, and were replaced with REPLACEMENT CHARACTER.\n# 관악구 : 42\n# 광진구 : 5\n# 구로구 : 35\n# 금천구 : 12\n# 노원구 : 25\n# 도봉구 : 9\n# 동대문구 : 31\n# 동작구 : 31\n# 마포구 : 21\n# 서대문구 : 17\n# 서초구 : 28\n# 성동구 : 19\n# 성북구 : 21\n# 송파구 : 37\n# 양천구 : 21\n# 영등포구 : 28\n# 용산구 : 12\n# 은평구 : 28\n# 종로구 : 16\n# 중구 : 5\n# 중랑구 : 16\n# 기타 : 42\npass :  서울\n#  북구 :  788\n#  달서구 :  1606\n#  남구 :  1360\n#  서구 :  538\n#  수성구 :  1055\n#  중구 :  249\n#  동구 :  685\n#  달성군 :  669\npass :  대구\npass :  부산\n동구 : 2\n중구 : 0\n서구 : 15\n유성구 : 19\n대덕구 : 3\npass :  광주\npass :  울산\npass :  인천\npass :  세종\npass :  경상북도\npass :  경상남도\npass :  경기도\npass :  충청북도\npass :  충청남도\npass :  강원도\npass :  전라북도\npass :  전라남도\npass :  제주도\npass :  검역\n"
    }
   ],
   "source": [
    "data = collector(regions)"
   ]
  },
  {
   "cell_type": "code",
   "execution_count": 6,
   "metadata": {},
   "outputs": [
    {
     "output_type": "stream",
     "name": "stdout",
     "text": "Save\n"
    },
    {
     "output_type": "display_data",
     "data": {
      "text/plain": "<IPython.core.display.Markdown object>",
      "text/markdown": "\n\n|  지역  | 확진자 |  격리자  |  사망  |  의심환자  |  검사중  |  결과음성  |  자가격리자  |  감시중  |  감시해제  |  퇴원  |\n|:------:|:------:|:--------:|:--------:|:----------:|:--------:|:----------------:|:------------:|:--------:|:----------:|:--:|\n|**총합**|**10,678**|**2,896**|**222**|**172,061**|**8,139**|**208,553**|**56,430**|**7,653**|**42,019**|**7,519**|\n|서울|603|376|2|94,036|5,407|88,629|41,730|3,546|21,934|227|\n|대구|6,950|1,277|149|-|-|-|2,786|-|-|5,524|\n|부산|124|18|3|-|-|-|-|-|-|103|\n|대전|39|15|0|-|96|10,712|922|72|850|24|\n|광주|27|6|-|10,192|54|10,111|1,209|7|1,202|21|\n|울산|41|8|1|9,432|106|9,326|4,412|992|3,420|33|\n|인천|88|88|-|26,850|461|26,389|-|-|-|-|\n|세종|46|25|-|-|-|-|395|-|-|21|\n|경상북도|1,342|269|54|-|484|13|-|663|11,653|975|\n|경상남도|111|31|-|16,916|242|16,674|-|-|-|80|\n|경기도|640|307|13|-|-|-|-|-|-|320|\n|충청북도|45|14|-|14,635|96|14,539|3,585|1,212|2,373|31|\n|충청남도|139|26|0|-|315|21,946|101|-|-|113|\n|강원도|50|21|-|-|278|-|1,290|-|-|29|\n|전라북도|17|9|-|-|-|-|-|-|-|8|\n|전라남도|15|14|-|-|535|10,214|-|1,161|587|1|\n|제주도|12|7|0|-|65|-|0|-|-|5|\n|검역|389|385|-|-|-|-|-|-|-|4|\n|**총합**|**10,678**|**2,896**|**222**|**172,061**|**8,139**|**208,553**|**56,430**|**7,653**|**42,019**|**7,519**|\n\n"
     },
     "metadata": {}
    }
   ],
   "source": [
    "display(Markdown('''\n",
    "{}\n",
    "'''.format(chart.generate(data))))"
   ]
  },
  {
   "cell_type": "code",
   "execution_count": 7,
   "metadata": {},
   "outputs": [],
   "source": [
    "readme = open('README.md', mode='wt', encoding='utf-8')\n",
    "readme.write('''\n",
    "## 중공 바이러스[CCP Virus](SARS-CoV-2) 대한민국 확진자 통계\n",
    "### Confirmed cases of China-Virus in Korea\n",
    "{0} KST\n",
    "\n",
    "각 **시/도/구/군청** 사이트에 공개되어 있는 **공식 자료**를 수합하여 만든 통계입니다.\n",
    "질병관리본부에서 발표되는 공식 수치와는 다를 수 있습니다.\n",
    "\n",
    "{1}\n",
    "\n",
    "** 부산, 경상남도 홈페이지에 표시된 수치가 질병관리본부 발표보다 적습니다. **<br>\n",
    "#1 확진자(중국인) 제외\n",
    "'''.format(kst_time(), chart.Chart))\n",
    "readme.close()"
   ]
  },
  {
   "cell_type": "code",
   "execution_count": null,
   "metadata": {},
   "outputs": [],
   "source": [
    "#region_list = [seoul(), \n",
    "#               Daegu().collect(),    \n",
    "#               busan(),   \n",
    "#               daejeon(),\n",
    "#               gwangju(infected=13, quarantine=9, self_quarantine=1, care=3),\n",
    "#               ulsan(),\n",
    "#               incheon(),\n",
    "#               sejong(),\n",
    "#               gyeongbuk(),\n",
    "#               gyeongnam(),\n",
    "#               gyeonggi(), \n",
    "#               chungbuk(),\n",
    "#               chungnam(),\n",
    "#               gangwon(),\n",
    "#               jeonbuk(),\n",
    "#               jeonnam(),\n",
    "#               jeju(),\n",
    "#        ]"
   ]
  },
  {
   "cell_type": "code",
   "execution_count": null,
   "metadata": {},
   "outputs": [],
   "source": []
  }
 ],
 "metadata": {
  "kernelspec": {
   "display_name": "Python 3",
   "language": "python",
   "name": "python3"
  },
  "language_info": {
   "codemirror_mode": {
    "name": "ipython",
    "version": 3
   },
   "file_extension": ".py",
   "mimetype": "text/x-python",
   "name": "python",
   "nbconvert_exporter": "python",
   "pygments_lexer": "ipython3",
   "version": "3.7.6-final"
  }
 },
 "nbformat": 4,
 "nbformat_minor": 4
}