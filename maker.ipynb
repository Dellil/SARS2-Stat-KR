{
 "cells": [
  {
   "cell_type": "code",
   "execution_count": 1,
   "metadata": {},
   "outputs": [],
   "source": [
    "from util.table import table\n",
    "from util.region import *\n",
    "from util.Daegu import Daegu\n",
    "# from util.Gangwon import Gangwon\n",
    "from util.Seoul import Seoul\n",
    "from util.KST import kst_time\n",
    "from util.collector import collector"
   ]
  },
  {
   "cell_type": "code",
   "execution_count": 2,
   "metadata": {},
   "outputs": [],
   "source": [
    "from IPython.display import display, Markdown, Latex"
   ]
  },
  {
   "cell_type": "code",
   "execution_count": 3,
   "metadata": {},
   "outputs": [],
   "source": [
    "chart = table()"
   ]
  },
  {
   "cell_type": "code",
   "execution_count": 4,
   "metadata": {},
   "outputs": [],
   "source": [
    "regions = [Seoul().collect, \n",
    "               Daegu().collect,    \n",
    "               busan,   \n",
    "               daejeon,\n",
    "               gwangju,\n",
    "               ulsan,\n",
    "               incheon,\n",
    "               sejong,\n",
    "               gyeongbuk,\n",
    "               gyeongnam,\n",
    "               gyeonggi, \n",
    "               chungbuk,\n",
    "               chungnam,\n",
    "               gangwon,\n",
    "               jeonbuk,\n",
    "               jeonnam,\n",
    "               jeju,\n",
    "               foreign,\n",
    "        ]"
   ]
  },
  {
   "cell_type": "code",
   "execution_count": 5,
   "metadata": {},
   "outputs": [
    {
     "name": "stdout",
     "output_type": "stream",
     "text": [
      "# 강남구 : 59\n",
      "# 강동구 : 13\n",
      "# 강북구 : 5\n",
      "# 강서구 : 25\n",
      "# 관악구 : 41\n",
      "# 광진구 : 6\n",
      "# 구로구 : 35\n",
      "# 금천구 : 12\n",
      "# 노원구 : 25\n",
      "# 도봉구 : 8\n",
      "# 동대문구 : 31\n",
      "# 동작구 : 29\n",
      "# 마포구 : 21\n",
      "# 서대문구 : 17\n",
      "# 서초구 : 30\n",
      "# 성동구 : 12\n",
      "# 성북구 : 21\n",
      "# 송파구 : 36\n",
      "# 양천구 : 20\n",
      "# 영등포구 : 28\n"
     ]
    },
    {
     "name": "stderr",
     "output_type": "stream",
     "text": [
      "C:\\Users\\lk-lab\\miniconda3\\lib\\site-packages\\urllib3\\connectionpool.py:1004: InsecureRequestWarning: Unverified HTTPS request is being made to host 'www.ydp.go.kr'. Adding certificate verification is strongly advised. See: https://urllib3.readthedocs.io/en/latest/advanced-usage.html#ssl-warnings\n",
      "  InsecureRequestWarning,\n"
     ]
    },
    {
     "name": "stdout",
     "output_type": "stream",
     "text": [
      "# 용산구 : 13\n",
      "# 은평구 : 26\n",
      "# 종로구 : 16\n",
      "# 중구 : 4\n",
      "# 중랑구 : 16\n",
      "# 기타 : 42\n",
      "pass :  서울\n"
     ]
    },
    {
     "name": "stderr",
     "output_type": "stream",
     "text": [
      "C:\\Users\\lk-lab\\miniconda3\\lib\\site-packages\\urllib3\\connectionpool.py:1004: InsecureRequestWarning: Unverified HTTPS request is being made to host 'www.buk.daegu.kr'. Adding certificate verification is strongly advised. See: https://urllib3.readthedocs.io/en/latest/advanced-usage.html#ssl-warnings\n",
      "  InsecureRequestWarning,\n"
     ]
    },
    {
     "name": "stdout",
     "output_type": "stream",
     "text": [
      "#  북구 :  786\n",
      "#  달서구 :  1605\n",
      "#  남구 :  1359\n",
      "#  서구 :  538\n",
      "#  수성구 :  1047\n",
      "#  중구 :  248\n",
      "#  동구 :  680\n",
      "#  달성군 :  664\n",
      "pass :  대구\n",
      "pass :  부산\n",
      "pass :  대전\n",
      "pass :  광주\n",
      "pass :  울산\n",
      "pass :  인천\n",
      "pass :  세종\n",
      "pass :  경상북도\n",
      "pass :  경상남도\n",
      "pass :  경기도\n",
      "pass :  충청북도\n",
      "pass :  충청남도\n",
      "pass :  강원도\n",
      "pass :  전라북도\n"
     ]
    },
    {
     "name": "stderr",
     "output_type": "stream",
     "text": [
      "C:\\Users\\lk-lab\\miniconda3\\lib\\site-packages\\urllib3\\connectionpool.py:1004: InsecureRequestWarning: Unverified HTTPS request is being made to host 'www.jeonnam.go.kr'. Adding certificate verification is strongly advised. See: https://urllib3.readthedocs.io/en/latest/advanced-usage.html#ssl-warnings\n",
      "  InsecureRequestWarning,\n"
     ]
    },
    {
     "name": "stdout",
     "output_type": "stream",
     "text": [
      "pass :  전라남도\n",
      "pass :  제주도\n",
      "pass :  검역\n"
     ]
    }
   ],
   "source": [
    "data = collector(regions)"
   ]
  },
  {
   "cell_type": "code",
   "execution_count": 6,
   "metadata": {},
   "outputs": [
    {
     "name": "stdout",
     "output_type": "stream",
     "text": [
      "Save\n"
     ]
    },
    {
     "data": {
      "text/markdown": [
       "\n",
       "\n",
       "|  지역  | 확진자 |  격리자  |  사망  |  의심환자  |  검사중  |  결과음성  |  자가격리자  |  감시중  |  감시해제  |  퇴원  |\n",
       "|:------:|:------:|:--------:|:--------:|:----------:|:--------:|:----------------:|:------------:|:--------:|:----------:|:--:|\n",
       "|**총합**|**10,561**|**3,199**|**207**|**162,049**|**8,125**|**197,044**|**26,827**|**8,475**|**27,801**|**7,114**|\n",
       "|서울|592|408|2|89,244|5,044|84,200|14,045|4,641|9,404|184|\n",
       "|대구|6,927|1,515|138|-|-|-|2,539|-|-|5,274|\n",
       "|부산|123|23|3|-|-|-|-|-|-|97|\n",
       "|대전|39|17|0|-|112|10,372|121|121|783|22|\n",
       "|광주|27|12|-|9,361|49|9,285|1,209|9|1,200|15|\n",
       "|울산|40|10|1|8,533|108|8,425|3,965|894|3,071|30|\n",
       "|인천|85|85|-|24,936|548|24,388|-|-|-|-|\n",
       "|세종|46|26|-|-|35|-|366|-|-|20|\n",
       "|경상북도|1,327|290|52|-|571|111|-|870|10,801|941|\n",
       "|경상남도|111|32|-|16,459|262|16,197|-|-|-|79|\n",
       "|경기도|616|332|11|-|-|-|-|-|-|273|\n",
       "|충청북도|45|15|-|13,516|157|13,359|3,104|993|2,111|30|\n",
       "|충청남도|138|33|0|-|350|21,254|134|-|-|105|\n",
       "|강원도|49|21|-|-|305|-|1,228|-|-|28|\n",
       "|전라북도|17|9|-|-|-|-|-|-|-|8|\n",
       "|전라남도|15|14|-|-|527|9,453|-|947|431|1|\n",
       "|제주도|12|8|0|-|57|-|116|-|-|4|\n",
       "|검역|352|349|-|-|-|-|-|-|-|3|\n",
       "|**총합**|**10,561**|**3,199**|**207**|**162,049**|**8,125**|**197,044**|**26,827**|**8,475**|**27,801**|**7,114**|\n",
       "\n"
      ],
      "text/plain": [
       "<IPython.core.display.Markdown object>"
      ]
     },
     "metadata": {},
     "output_type": "display_data"
    }
   ],
   "source": [
    "display(Markdown('''\n",
    "{}\n",
    "'''.format(chart.generate(data))))"
   ]
  },
  {
   "cell_type": "code",
   "execution_count": 7,
   "metadata": {},
   "outputs": [],
   "source": [
    "readme = open('README.md', mode='wt', encoding='utf-8')\n",
    "readme.write('''\n",
    "## 중공 바이러스[CCP Virus](SARS-CoV-2) 대한민국 확진자 통계\n",
    "### Confirmed cases of China-Virus in Korea\n",
    "{0} KST\n",
    "\n",
    "각 **시/도/구/군청** 사이트에 공개되어 있는 **공식 자료**를 수합하여 만든 통계입니다.\n",
    "질병관리본부에서 발표되는 공식 수치와는 다를 수 있습니다.\n",
    "\n",
    "{1}\n",
    "\n",
    "** 부산, 경상남도 홈페이지에 표시된 수치가 질병관리본부 발표보다 적습니다. **<br>\n",
    "#1 확진자(중국인) 제외\n",
    "'''.format(kst_time(), chart.Chart))\n",
    "readme.close()"
   ]
  },
  {
   "cell_type": "code",
   "execution_count": null,
   "metadata": {},
   "outputs": [],
   "source": [
    "#region_list = [seoul(), \n",
    "#               Daegu().collect(),    \n",
    "#               busan(),   \n",
    "#               daejeon(),\n",
    "#               gwangju(infected=13, quarantine=9, self_quarantine=1, care=3),\n",
    "#               ulsan(),\n",
    "#               incheon(),\n",
    "#               sejong(),\n",
    "#               gyeongbuk(),\n",
    "#               gyeongnam(),\n",
    "#               gyeonggi(), \n",
    "#               chungbuk(),\n",
    "#               chungnam(),\n",
    "#               gangwon(),\n",
    "#               jeonbuk(),\n",
    "#               jeonnam(),\n",
    "#               jeju(),\n",
    "#        ]"
   ]
  },
  {
   "cell_type": "code",
   "execution_count": null,
   "metadata": {},
   "outputs": [],
   "source": []
  }
 ],
 "metadata": {
  "kernelspec": {
   "display_name": "Python 3",
   "language": "python",
   "name": "python3"
  },
  "language_info": {
   "codemirror_mode": {
    "name": "ipython",
    "version": 3
   },
   "file_extension": ".py",
   "mimetype": "text/x-python",
   "name": "python",
   "nbconvert_exporter": "python",
   "pygments_lexer": "ipython3",
   "version": "3.7.6"
  }
 },
 "nbformat": 4,
 "nbformat_minor": 4
}
