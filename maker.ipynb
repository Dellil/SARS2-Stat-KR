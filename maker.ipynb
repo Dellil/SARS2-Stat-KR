{
 "cells": [
  {
   "cell_type": "code",
   "execution_count": 1,
   "metadata": {},
   "outputs": [],
   "source": [
    "from util.mk_table import Mk_table\n",
    "from util.region import *\n",
    "from util.Daegu import Daegu\n",
    "from util.Gangwon import Gangwon\n",
    "from util.Seoul import Seoul\n",
    "from util.KST import kst_time"
   ]
  },
  {
   "cell_type": "code",
   "execution_count": 2,
   "metadata": {},
   "outputs": [],
   "source": [
    "from IPython.display import display, Markdown, Latex"
   ]
  },
  {
   "cell_type": "code",
   "execution_count": 3,
   "metadata": {},
   "outputs": [],
   "source": [
    "table = Mk_table()"
   ]
  },
  {
   "cell_type": "code",
   "execution_count": 4,
   "metadata": {},
   "outputs": [
    {
     "name": "stdout",
     "output_type": "stream",
     "text": "pass :  서울\n#북구 :  346\n#달서구 :  869\n#남구 :  1127\n#서구 :  255\n#수성구 :  603\n#중구 :  165\n#동구 :  350\n#달성군 :  317\npass :  대구\npass :  부산\npass :  대전\npass :  광주\npass :  울산\npass :  인천\npass :  세종\npass :  경상북도\npass :  경상남도\npass :  경기도\npass :  충청북도\npass :  충청남도\npass :  강원도\npass :  전라북도\npass :  전라남도\npass :  제주도\n"
    }
   ],
   "source": [
    "region_list = [seoul(), \n",
    "               Daegu().collect(),    \n",
    "               busan(),   \n",
    "               daejeon(),\n",
    "               gwangju(infected=13, quarantine=10, self_quarantine=1, care=2),\n",
    "               ulsan(),\n",
    "               incheon(),\n",
    "               sejong(),\n",
    "               gyeongbuk(),\n",
    "               gyeongnam(),\n",
    "               gyeonggi(), \n",
    "               chungbuk(),\n",
    "               chungnam(),\n",
    "               Gangwon().collect(suspect=4849, testing=1080, negative=3747),\n",
    "               jeonbuk(),\n",
    "               jeonnam(),\n",
    "               jeju(),\n",
    "        ]"
   ]
  },
  {
   "cell_type": "code",
   "execution_count": 5,
   "metadata": {},
   "outputs": [
    {
     "data": {
      "text/markdown": "\n\n        \n|  지역  | 확진자 |  격리자  |  사망자  |  의사환자  |  검사중  |  결과음성  |  자가격리자  |  감시중  |  감시해제  |  퇴원  |\n|:------:|:------:|:--------:|:--------:|:----------:|:--------:|:----------------:|:------------:|:--------:|:----------:|:--:|\n|**총합**|**5,307**|**5,217**|**32**|**46,856**|**10,533**|**48,448**|**22,137**|**9,901**|**3,213**|**57**|\n|서울|99|74|-|21,522|4,308|17,214|4,103|2,472|1,631|25|\n|대구|4,032|3,999|22 |-|-|-|14,369|-|-|11 |\n|부산|84|84|-|-|-|-|-|-|-|-|\n|대전|16|15|0|-|246|3,360|249|249|67|1|\n|광주|13|10|-|-|-|-|1|-|-|2|\n|울산|23|23|-|3,119|204|2,915|-|20|290|-|\n|인천|9|9|-|7,645|950|6,695|-|-|-|-|\n|세종|1|1|-|-|0|925|-|-|-|-|\n|경상북도|725|712|9|-|1,303|520|-|5,915|971|4|\n|경상남도|70|67|-|5,650|571|5,079|925|-|-|3|\n|경기도|102|92|1|-|-|-|-|-|-|9|\n|충청북도|12|12|-|4,071|339|3,732|1,434|1,245|189|-|\n|충청남도|83|83|-|-|1,430|3,360|627|-|-|-|\n|강원도|23|23|0|4849|1080|3747|252|-|-|-|\n|전라북도|7|6|-|-|-|-|52|-|-|1|\n|전라남도|4|3|-|-|31|901|-|-|1|1|\n|제주도|4|4|0|-|71|-|125|-|64|-|\n|**총합**|**5,307**|**5,217**|**32**|**46,856**|**10,533**|**48,448**|**22,137**|**9,901**|**3,213**|**57**|\n\n        \n",
      "text/plain": "<IPython.core.display.Markdown object>"
     },
     "metadata": {},
     "output_type": "display_data"
    }
   ],
   "source": [
    "display(Markdown('''\n",
    "{}\n",
    "'''.format(table.generate(region_list))))"
   ]
  },
  {
   "cell_type": "code",
   "execution_count": 6,
   "metadata": {},
   "outputs": [],
   "source": [
    " readme = open('README.md', mode='wt', encoding='utf-8')\n",
    "readme.write('''\n",
    "## 대한민국 우한 코로나 바이러스 감염자 실시간 통계\n",
    "{0} KST\n",
    "\n",
    "** 부산, 경상북도 홈페이지에 표시된 수치가 질병관리본부 발표보다 적습니다. **\n",
    "\n",
    "각 **시/도/구/군청** 사이트에 공개되어 있는 **공식 자료**를 수합하여 만든 통계입니다.\n",
    "질병관리본부에서 발표되는 공식 수치와는 다를 수 있습니다.\n",
    "\n",
    "**이 통계에 대해 가짜정보라고 기사를 작성한 기자와 언론사를 상대로 언론중재위원회에 손해배상청구를 진행할 예정입니다**\n",
    "\n",
    "{1}\n",
    "\n",
    "#1 확진자(중국인) 제외\n",
    "'''.format(kst_time(), table.table))\n",
    "readme.close()"
   ]
  },
  {
   "cell_type": "code",
   "execution_count": null,
   "metadata": {},
   "outputs": [],
   "source": []
  }
 ],
 "metadata": {
  "kernelspec": {
   "display_name": "Python 3",
   "language": "python",
   "name": "python3"
  },
  "language_info": {
   "codemirror_mode": {
    "name": "ipython",
    "version": 3
   },
   "file_extension": ".py",
   "mimetype": "text/x-python",
   "name": "python",
   "nbconvert_exporter": "python",
   "pygments_lexer": "ipython3",
   "version": "3.7.4-final"
  }
 },
 "nbformat": 4,
 "nbformat_minor": 2
}