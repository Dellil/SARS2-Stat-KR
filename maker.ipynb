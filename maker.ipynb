{
 "cells": [
  {
   "cell_type": "code",
   "execution_count": 1,
   "metadata": {},
   "outputs": [],
   "source": [
    "from util.mk_table import Mk_table\n",
    "from util.region import *\n",
    "from util.Daegu import Daegu\n",
    "from util.Gangwon import Gangwon\n",
    "from util.Seoul import Seoul\n",
    "from util.KST import kst_time\n",
    "from util.collector import collector"
   ]
  },
  {
   "cell_type": "code",
   "execution_count": 2,
   "metadata": {},
   "outputs": [],
   "source": [
    "from IPython.display import display, Markdown, Latex"
   ]
  },
  {
   "cell_type": "code",
   "execution_count": 3,
   "metadata": {},
   "outputs": [],
   "source": [
    "table = Mk_table()"
   ]
  },
  {
   "cell_type": "code",
   "execution_count": 4,
   "metadata": {},
   "outputs": [],
   "source": [
    "regions = [Seoul().collect, \n",
    "               Daegu().collect,    \n",
    "               busan,   \n",
    "               daejeon,\n",
    "               gwangju,\n",
    "               ulsan,\n",
    "               incheon,\n",
    "               sejong,\n",
    "               gyeongbuk,\n",
    "               gyeongnam,\n",
    "               gyeonggi, \n",
    "               chungbuk,\n",
    "               chungnam,\n",
    "               gangwon,\n",
    "               jeonbuk,\n",
    "               jeonnam,\n",
    "               jeju,\n",
    "        ]"
   ]
  },
  {
   "cell_type": "code",
   "execution_count": 5,
   "metadata": {},
   "outputs": [
    {
     "name": "stdout",
     "output_type": "stream",
     "text": "# 강남구 : 12\n# 강동구 : 4\n# 강북구 : 2\n# 강서구 : 2\nSome characters could not be decoded, and were replaced with REPLACEMENT CHARACTER.\n# 관악구 : 4\n# 광진구 : 2\n# 구로구 : 1\n# 금천구 : 1\n# 노원구 : 8\n# 도봉구 : 1\n# 동대문구 : 4\n# 동작구 : 1\n# 마포구 : 1\n# 서대문구 : 4\npass :  서울\n#북구 :  491\n#달서구 :  1049\n#남구 :  1378\n#서구 :  323\n#수성구 :  786\n#중구 :  187\n#동구 :  439\n#달성군 :  335\npass :  대구\nError occured at : busan\npass :  대전\npass :  광주\npass :  울산\npass :  인천\npass :  세종\npass :  경상북도\npass :  경상남도\npass :  경기도\npass :  충청북도\npass :  충청남도\npass :  강원도\npass :  전라북도\npass :  전라남도\npass :  제주도\npass :  부산\n"
    }
   ],
   "source": [
    "data = collector(regions)"
   ]
  },
  {
   "cell_type": "code",
   "execution_count": 6,
   "metadata": {},
   "outputs": [
    {
     "data": {
      "text/markdown": "\n\n        \n|  지역  | 확진자 |  격리자  |  사망  |  의사환자  |  검사중  |  결과음성  |  자가격리자  |  감시중  |  감시해제  |  퇴원  |\n|:------:|:------:|:--------:|:--------:|:----------:|:--------:|:----------------:|:------------:|:--------:|:----------:|:--:|\n|**총합**|**6,520**|**6,333**|**42**|**50,862**|**12,351**|**54,119**|**23,775**|**9,585**|**4,748**|**123**|\n|서울|107|82|0|26,800|4,136|22,664|4,245|1,997|2,295|25|\n|대구|4,988|4,942|28 |-|-|-|15,318|-|-|18 |\n|부산|87|78|-|-|-|-|-|-|-|9|\n|대전|18|16|0|-|164|3,898|232|232|110|2|\n|광주|13|9|-|-|-|-|1|-|-|3|\n|울산|22|21|-|3,453|3,434|19|-|329|108|1|\n|인천|9|7|-|9,228|884|8,344|-|-|-|2|\n|세종|2|2|-|-|28|1012|-|-|-|-|\n|경상북도|927|876|13|-|875|555|-|6,201|1,411|38|\n|경상남도|78|74|-|6,827|536|6,291|844|-|-|4|\n|경기도|119|102|1|-|-|-|-|-|-|16|\n|충청북도|18|18|-|4,554|250|4,304|1,471|826|645|-|\n|충청남도|92|92|-|-|1,151|6,040|954|-|-|-|\n|강원도|25|22|-|-|803|-|613|-|-|3|\n|전라북도|7|6|-|-|-|-|32|-|-|1|\n|전라남도|4|3|-|-|25|992|-|-|1|1|\n|제주도|4|4|0|-|65|-|65|-|178|-|\n|**총합**|**6,520**|**6,333**|**42**|**50,862**|**12,351**|**54,119**|**23,775**|**9,585**|**4,748**|**123**|\n\n        \n",
      "text/plain": "<IPython.core.display.Markdown object>"
     },
     "metadata": {},
     "output_type": "display_data"
    }
   ],
   "source": [
    "display(Markdown('''\n",
    "{}\n",
    "'''.format(table.generate(data))))"
   ]
  },
  {
   "cell_type": "code",
   "execution_count": 7,
   "metadata": {},
   "outputs": [],
   "source": [
    "readme = open('README.md', mode='wt', encoding='utf-8')\n",
    "readme.write('''\n",
    "## 대한민국 우한 코로나 바이러스 감염자 실시간 통계\n",
    "{0} KST\n",
    "\n",
    "** 부산, 경상북도 홈페이지에 표시된 수치가 질병관리본부 발표보다 적습니다. **\n",
    "\n",
    "각 **시/도/구/군청** 사이트에 공개되어 있는 **공식 자료**를 수합하여 만든 통계입니다.\n",
    "질병관리본부에서 발표되는 공식 수치와는 다를 수 있습니다.\n",
    "\n",
    "{1}\n",
    "\n",
    "#1 확진자(중국인) 제외\n",
    "'''.format(kst_time(), table.table))\n",
    "readme.close()"
   ]
  },
  {
   "cell_type": "code",
   "execution_count": null,
   "metadata": {},
   "outputs": [],
   "source": [
    "#region_list = [seoul(), \n",
    "#               Daegu().collect(),    \n",
    "#               busan(),   \n",
    "#               daejeon(),\n",
    "#               gwangju(infected=13, quarantine=9, self_quarantine=1, care=3),\n",
    "#               ulsan(),\n",
    "#               incheon(),\n",
    "#               sejong(),\n",
    "#               gyeongbuk(),\n",
    "#               gyeongnam(),\n",
    "#               gyeonggi(), \n",
    "#               chungbuk(),\n",
    "#               chungnam(),\n",
    "#               gangwon(),\n",
    "#               jeonbuk(),\n",
    "#               jeonnam(),\n",
    "#               jeju(),\n",
    "#        ]"
   ]
  },
  {
   "cell_type": "code",
   "execution_count": null,
   "metadata": {},
   "outputs": [],
   "source": []
  }
 ],
 "metadata": {
  "kernelspec": {
   "display_name": "Python 3",
   "language": "python",
   "name": "python3"
  },
  "language_info": {
   "codemirror_mode": {
    "name": "ipython",
    "version": 3
   },
   "file_extension": ".py",
   "mimetype": "text/x-python",
   "name": "python",
   "nbconvert_exporter": "python",
   "pygments_lexer": "ipython3",
   "version": "3.7.6-final"
  }
 },
 "nbformat": 4,
 "nbformat_minor": 4
}