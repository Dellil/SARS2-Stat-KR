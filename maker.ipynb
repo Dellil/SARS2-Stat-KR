{
 "cells": [
  {
   "cell_type": "code",
   "execution_count": 1,
   "metadata": {},
   "outputs": [],
   "source": [
    "from util.table import table\n",
    "from util.region import *\n",
    "from util.Daegu import Daegu\n",
    "# from util.Gangwon import Gangwon\n",
    "from util.Seoul import Seoul\n",
    "from util.KST import kst_time\n",
    "from util.collector import collector"
   ]
  },
  {
   "cell_type": "code",
   "execution_count": 2,
   "metadata": {},
   "outputs": [],
   "source": [
    "from IPython.display import display, Markdown, Latex"
   ]
  },
  {
   "cell_type": "code",
   "execution_count": 3,
   "metadata": {},
   "outputs": [],
   "source": [
    "chart = table()"
   ]
  },
  {
   "cell_type": "code",
   "execution_count": 4,
   "metadata": {},
   "outputs": [],
   "source": [
    "regions = [Seoul().collect, \n",
    "               Daegu().collect,    \n",
    "               busan,   \n",
    "               daejeon,\n",
    "               gwangju,\n",
    "               ulsan,\n",
    "               incheon,\n",
    "               sejong,\n",
    "               gyeongbuk,\n",
    "               gyeongnam,\n",
    "               gyeonggi, \n",
    "               chungbuk,\n",
    "               chungnam,\n",
    "               gangwon,\n",
    "               jeonbuk,\n",
    "               jeonnam,\n",
    "               jeju,\n",
    "               foreign,\n",
    "        ]"
   ]
  },
  {
   "cell_type": "code",
   "execution_count": 5,
   "metadata": {},
   "outputs": [
    {
     "output_type": "stream",
     "name": "stdout",
     "text": "# 강남구 : 17\n# 강동구 : 7\n# 강북구 : 5\n# 강서구 : 19\nSome characters could not be decoded, and were replaced with REPLACEMENT CHARACTER.\n# 관악구 : 19\n# 광진구 : 4\n# 구로구 : 23\n# 금천구 : 5\n# 노원구 : 21\n# 도봉구 : 3\n# 동대문구 : 25\n# 동작구 : 13\n# 마포구 : 13\n# 서대문구 : 14\n# 서초구 : 12\n# 성동구 : 6\n# 성북구 : 13\n# 송파구 : 18\n# 양천구 : 16\n# 영등포구 : 19\n# 용산구 : 5\n# 은평구 : 19\n# 종로구 : 11\n# 중구 : 1\n# 중랑구 : 8\n# 기타 : 18\npass :  서울\n#  북구 :  765\n#  달서구 :  1565\n#  남구 :  1342\n#  서구 :  487\n#  수성구 :  991\n#  중구 :  244\n#  동구 :  641\n#  달성군 :  437\npass :  대구\npass :  부산\npass :  대전\npass :  광주\npass :  울산\npass :  인천\npass :  세종\npass :  경상북도\npass :  경상남도\npass :  경기도\npass :  충청북도\npass :  충청남도\npass :  강원도\npass :  전라북도\npass :  전라남도\npass :  제주도\npass :  검역\n"
    }
   ],
   "source": [
    "data = collector(regions)"
   ]
  },
  {
   "cell_type": "code",
   "execution_count": 6,
   "metadata": {},
   "outputs": [
    {
     "output_type": "stream",
     "name": "stdout",
     "text": "Save\n"
    },
    {
     "output_type": "display_data",
     "data": {
      "text/plain": "<IPython.core.display.Markdown object>",
      "text/markdown": "\n\n|  지역  | 확진자 |  격리자  |  사망  |  의사환자  |  검사중  |  결과음성  |  자가격리자  |  감시중  |  감시해제  |  퇴원  |\n|:------:|:------:|:--------:|:--------:|:----------:|:--------:|:----------------:|:------------:|:--------:|:----------:|:--:|\n|**총합**|**8,934**|**5,914**|**104**|**48,123**|**8,455**|**131,860**|**15,137**|**4,102**|**17,817**|**2,916**|**57,273**|\n|서울|334|271|0|-|4,164|53,109|7,749|2,410|5,339|63|57,273|\n|대구|6,472|4,263|72|-|-|-|3,652|-|-|2,137|-|\n|부산|105|37|1|-|-|-|-|-|-|67|-|\n|대전|24|18|0|-|82|7,313|70|70|444|6|-|\n|광주|19|9|-|6,084|74|5,991|1,175|71|1,104|10|-|\n|울산|36|19|-|6,485|124|6,361|434|44|390|17|-|\n|인천|40|38|-|15,541|265|15,276|-|-|-|2|-|\n|세종|42|42|-|-|167|3,177|-|-|-|-|-|\n|경상북도|1,200|761|28|-|2,261|61|-|1,351|8,750|411|-|\n|경상남도|85|42|-|11,217|201|11,016|-|-|-|43|-|\n|경기도|337|251|3|-|-|-|-|-|-|83|-|\n|충청북도|36|27|-|8,796|170|8,626|1,719|140|1,579|9|-|\n|충청남도|120|76|0|-|535|15,047|166|-|-|44|-|\n|강원도|30|17|-|-|185|-|60|-|-|13|-|\n|전라북도|10|3|-|-|-|-|59|-|-|7|-|\n|전라남도|6|5|-|-|189|5,883|-|16|211|1|-|\n|제주도|4|1|0|-|38|-|53|-|-|3|-|\n|검역|34|34|-|-|-|-|-|-|-|-|-|\n|**총합**|**8,934**|**5,914**|**104**|**48,123**|**8,455**|**131,860**|**15,137**|**4,102**|**17,817**|**2,916**|**57,273**|\n\n"
     },
     "metadata": {}
    }
   ],
   "source": [
    "display(Markdown('''\n",
    "{}\n",
    "'''.format(chart.generate(data))))"
   ]
  },
  {
   "cell_type": "code",
   "execution_count": 7,
   "metadata": {},
   "outputs": [],
   "source": [
    "readme = open('README.md', mode='wt', encoding='utf-8')\n",
    "readme.write('''\n",
    "## 중국 우한 바이러스(SARS-CoV-2) 대한민국 확진자 통계\n",
    "### Confirmed cases of China-Virus in Korea\n",
    "{0} KST\n",
    "\n",
    "각 **시/도/구/군청** 사이트에 공개되어 있는 **공식 자료**를 수합하여 만든 통계입니다.\n",
    "질병관리본부에서 발표되는 공식 수치와는 다를 수 있습니다.\n",
    "\n",
    "{1}\n",
    "\n",
    "** 부산, 경상북도 홈페이지에 표시된 수치가 질병관리본부 발표보다 적습니다. **<br>\n",
    "#1 확진자(중국인) 제외\n",
    "'''.format(kst_time(), chart.Chart))\n",
    "readme.close()"
   ]
  },
  {
   "cell_type": "code",
   "execution_count": null,
   "metadata": {},
   "outputs": [],
   "source": [
    "#region_list = [seoul(), \n",
    "#               Daegu().collect(),    \n",
    "#               busan(),   \n",
    "#               daejeon(),\n",
    "#               gwangju(infected=13, quarantine=9, self_quarantine=1, care=3),\n",
    "#               ulsan(),\n",
    "#               incheon(),\n",
    "#               sejong(),\n",
    "#               gyeongbuk(),\n",
    "#               gyeongnam(),\n",
    "#               gyeonggi(), \n",
    "#               chungbuk(),\n",
    "#               chungnam(),\n",
    "#               gangwon(),\n",
    "#               jeonbuk(),\n",
    "#               jeonnam(),\n",
    "#               jeju(),\n",
    "#        ]"
   ]
  },
  {
   "cell_type": "code",
   "execution_count": null,
   "metadata": {},
   "outputs": [],
   "source": []
  }
 ],
 "metadata": {
  "kernelspec": {
   "display_name": "Python 3",
   "language": "python",
   "name": "python3"
  },
  "language_info": {
   "codemirror_mode": {
    "name": "ipython",
    "version": 3
   },
   "file_extension": ".py",
   "mimetype": "text/x-python",
   "name": "python",
   "nbconvert_exporter": "python",
   "pygments_lexer": "ipython3",
   "version": "3.7.6-final"
  }
 },
 "nbformat": 4,
 "nbformat_minor": 4
}