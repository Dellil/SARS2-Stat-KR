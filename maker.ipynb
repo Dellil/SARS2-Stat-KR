{
 "cells": [
  {
   "cell_type": "code",
   "execution_count": 1,
   "metadata": {},
   "outputs": [],
   "source": [
    "from util.table import table\n",
    "from util.region import *\n",
    "from util.Daegu import Daegu\n",
    "from util.Gangwon import Gangwon\n",
    "from util.Seoul import Seoul\n",
    "from util.KST import kst_time\n",
    "from util.collector import collector"
   ]
  },
  {
   "cell_type": "code",
   "execution_count": 2,
   "metadata": {},
   "outputs": [],
   "source": [
    "from IPython.display import display, Markdown, Latex"
   ]
  },
  {
   "cell_type": "code",
   "execution_count": 3,
   "metadata": {},
   "outputs": [],
   "source": [
    "table = table()"
   ]
  },
  {
   "cell_type": "code",
   "execution_count": 4,
   "metadata": {},
   "outputs": [],
   "source": [
    "regions = [Seoul().collect, \n",
    "               Daegu().collect,    \n",
    "               busan,   \n",
    "               daejeon,\n",
    "               gwangju,\n",
    "               ulsan,\n",
    "               incheon,\n",
    "               sejong,\n",
    "               gyeongbuk,\n",
    "               gyeongnam,\n",
    "               gyeonggi, \n",
    "               chungbuk,\n",
    "               chungnam,\n",
    "               gangwon,\n",
    "               jeonbuk,\n",
    "               jeonnam,\n",
    "               jeju,\n",
    "        ]"
   ]
  },
  {
   "cell_type": "code",
   "execution_count": 5,
   "metadata": {},
   "outputs": [
    {
     "name": "stdout",
     "output_type": "stream",
     "text": "# 강남구 : 12\n# 강동구 : 5\n# 강북구 : 4\n# 강서구 : 6\n# 관악구 : 10\n# 광진구 : 2\n# 구로구 : 9\n# 금천구 : 2\n# 노원구 : 10\n# 도봉구 : 1\n# 동대문구 : 11\n# 동작구 : 5\n# 마포구 : 1\n# 서대문구 : 4\n# 서초구 : 5\n# 성동구 : 3\n# 성북구 : 2\n# 송파구 : 13\n# 양천구 : 10\n# 영등포구 : 6\n# 용산구 : 1\n# 은평구 : 11\n# 종로구 : 11\n# 중구 : 1\n# 중랑구 : 2\n# 기타 : 17\npass :  서울\n#  북구 :  640\n#  달서구 :  1454\n#  남구 :  1282\n#  서구 :  366\n#  수성구 :  880\n#  중구 :  207\n#  동구 :  567\n#  달성군 :  361\npass :  대구\npass :  부산\npass :  대전\npass :  광주\npass :  울산\npass :  인천\npass :  세종\npass :  경상북도\npass :  경상남도\npass :  경기도\npass :  충청북도\npass :  충청남도\npass :  강원도\npass :  전라북도\npass :  전라남도\npass :  제주도\n"
    }
   ],
   "source": [
    "data = collector(regions)"
   ]
  },
  {
   "cell_type": "code",
   "execution_count": 6,
   "metadata": {},
   "outputs": [
    {
     "name": "stdout",
     "output_type": "stream",
     "text": "Save\n"
    },
    {
     "data": {
      "text/markdown": "\n\n|  지역  | 확진자 |  격리자  |  사망  |  의사환자  |  검사중  |  결과음성  |  자가격리자  |  감시중  |  감시해제  |  퇴원  |\n|:------:|:------:|:--------:|:--------:|:----------:|:--------:|:----------------:|:------------:|:--------:|:----------:|:--:|\n|**총합**|**7,576**|**7,243**|**56**|**61,028**|**11,376**|**67,582**|**19,797**|**7,629**|**8,995**|**274**|\n|서울|168|139|0|33,532|3,634|29,898|4,782|1,460|3,322|29|\n|대구|5,757|5,601|39|-|-|-|11,444|-|-|117|\n|부산|89|69|-|-|-|-|-|-|-|20|\n|대전|18|15|0|-|197|4,617|139|139|230|3|\n|광주|15|9|-|-|-|-|3|-|-|3|\n|울산|23|21|-|3,981|3,979|2|-|352|208|2|\n|인천|23|21|-|10,919|492|10,427|-|-|-|2|\n|세종|10|10|-|-|25|1,403|-|-|-|-|\n|경상북도|1,055|983|16|-|810|112|-|5,388|3,778|56|\n|경상남도|78|74|-|6,827|536|6,291|844|-|-|4|\n|경기도|162|137|1|-|-|-|-|-|-|24|\n|충청북도|27|24|-|5,769|293|5,476|1,542|254|1,288|3|\n|충청남도|108|107|0|-|791|8,241|516|-|-|1|\n|강원도|28|22|-|-|519|-|476|-|-|6|\n|전라북도|7|5|-|-|-|-|20|-|-|2|\n|전라남도|4|3|-|-|27|1,115|-|36|169|1|\n|제주도|4|3|0|-|73|-|31|-|-|1|\n|**총합**|**7,576**|**7,243**|**56**|**61,028**|**11,376**|**67,582**|**19,797**|**7,629**|**8,995**|**274**|\n\n",
      "text/plain": "<IPython.core.display.Markdown object>"
     },
     "metadata": {},
     "output_type": "display_data"
    }
   ],
   "source": [
    "display(Markdown('''\n",
    "{}\n",
    "'''.format(table.generate(data))))"
   ]
  },
  {
   "cell_type": "code",
   "execution_count": 7,
   "metadata": {},
   "outputs": [],
   "source": [
    "readme = open('README.md', mode='wt', encoding='utf-8')\n",
    "readme.write('''\n",
    "## 대한민국 우한 코로나 바이러스 감염자 실시간 통계\n",
    "{0} KST\n",
    "\n",
    "** 부산, 경상북도 홈페이지에 표시된 수치가 질병관리본부 발표보다 적습니다. **\n",
    "\n",
    "각 **시/도/구/군청** 사이트에 공개되어 있는 **공식 자료**를 수합하여 만든 통계입니다.\n",
    "질병관리본부에서 발표되는 공식 수치와는 다를 수 있습니다.\n",
    "\n",
    "{1}\n",
    "\n",
    "#1 확진자(중국인) 제외\n",
    "'''.format(kst_time(), table.Chart))\n",
    "readme.close()"
   ]
  },
  {
   "cell_type": "code",
   "execution_count": null,
   "metadata": {},
   "outputs": [],
   "source": [
    "#region_list = [seoul(), \n",
    "#               Daegu().collect(),    \n",
    "#               busan(),   \n",
    "#               daejeon(),\n",
    "#               gwangju(infected=13, quarantine=9, self_quarantine=1, care=3),\n",
    "#               ulsan(),\n",
    "#               incheon(),\n",
    "#               sejong(),\n",
    "#               gyeongbuk(),\n",
    "#               gyeongnam(),\n",
    "#               gyeonggi(), \n",
    "#               chungbuk(),\n",
    "#               chungnam(),\n",
    "#               gangwon(),\n",
    "#               jeonbuk(),\n",
    "#               jeonnam(),\n",
    "#               jeju(),\n",
    "#        ]"
   ]
  },
  {
   "cell_type": "code",
   "execution_count": 8,
   "metadata": {},
   "outputs": [
    {
     "data": {
      "text/plain": "'<table border=\"1\" class=\"dataframe\">\\n  <thead>\\n    <tr style=\"text-align: right;\">\\n      <th></th>\\n      <th>확진자</th>\\n      <th>격리자</th>\\n      <th>사망</th>\\n      <th>의사환자</th>\\n      <th>검사중</th>\\n      <th>결과음성</th>\\n      <th>자가격리자</th>\\n      <th>감시중</th>\\n      <th>감시해제</th>\\n      <th>퇴원</th>\\n    </tr>\\n    <tr>\\n      <th>지역</th>\\n      <th></th>\\n      <th></th>\\n      <th></th>\\n      <th></th>\\n      <th></th>\\n      <th></th>\\n      <th></th>\\n      <th></th>\\n      <th></th>\\n      <th></th>\\n    </tr>\\n  </thead>\\n  <tbody>\\n    <tr>\\n      <th>서울</th>\\n      <td>168</td>\\n      <td>139</td>\\n      <td>0</td>\\n      <td>33532</td>\\n      <td>3634</td>\\n      <td>29898</td>\\n      <td>4782</td>\\n      <td>1460</td>\\n      <td>3322</td>\\n      <td>29</td>\\n    </tr>\\n    <tr>\\n      <th>대구</th>\\n      <td>5757</td>\\n      <td>5601</td>\\n      <td>39</td>\\n      <td>-</td>\\n      <td>-</td>\\n      <td>-</td>\\n      <td>11444</td>\\n      <td>-</td>\\n      <td>-</td>\\n      <td>117</td>\\n    </tr>\\n    <tr>\\n      <th>부산</th>\\n      <td>89</td>\\n      <td>69</td>\\n      <td>-</td>\\n      <td>-</td>\\n      <td>-</td>\\n      <td>-</td>\\n      <td>-</td>\\n      <td>-</td>\\n      <td>-</td>\\n      <td>20</td>\\n    </tr>\\n    <tr>\\n      <th>대전</th>\\n      <td>18</td>\\n      <td>15</td>\\n      <td>0</td>\\n      <td>-</td>\\n      <td>197</td>\\n      <td>4617</td>\\n      <td>139</td>\\n      <td>139</td>\\n      <td>230</td>\\n      <td>3</td>\\n    </tr>\\n    <tr>\\n      <th>광주</th>\\n      <td>15</td>\\n      <td>9</td>\\n      <td>-</td>\\n      <td>-</td>\\n      <td>-</td>\\n      <td>-</td>\\n      <td>3</td>\\n      <td>-</td>\\n      <td>-</td>\\n      <td>3</td>\\n    </tr>\\n    <tr>\\n      <th>울산</th>\\n      <td>23</td>\\n      <td>21</td>\\n      <td>-</td>\\n      <td>3981</td>\\n      <td>3979</td>\\n      <td>2</td>\\n      <td>-</td>\\n      <td>352</td>\\n      <td>208</td>\\n      <td>2</td>\\n    </tr>\\n    <tr>\\n      <th>인천</th>\\n      <td>23</td>\\n      <td>21</td>\\n      <td>-</td>\\n      <td>10919</td>\\n      <td>492</td>\\n      <td>10427</td>\\n      <td>-</td>\\n      <td>-</td>\\n      <td>-</td>\\n      <td>2</td>\\n    </tr>\\n    <tr>\\n      <th>세종</th>\\n      <td>10</td>\\n      <td>10</td>\\n      <td>-</td>\\n      <td>-</td>\\n      <td>25</td>\\n      <td>1403</td>\\n      <td>-</td>\\n      <td>-</td>\\n      <td>-</td>\\n      <td>-</td>\\n    </tr>\\n    <tr>\\n      <th>경상북도</th>\\n      <td>1055</td>\\n      <td>983</td>\\n      <td>16</td>\\n      <td>-</td>\\n      <td>810</td>\\n      <td>112</td>\\n      <td>-</td>\\n      <td>5388</td>\\n      <td>3778</td>\\n      <td>56</td>\\n    </tr>\\n    <tr>\\n      <th>경상남도</th>\\n      <td>78</td>\\n      <td>74</td>\\n      <td>-</td>\\n      <td>6827</td>\\n      <td>536</td>\\n      <td>6291</td>\\n      <td>844</td>\\n      <td>-</td>\\n      <td>-</td>\\n      <td>4</td>\\n    </tr>\\n    <tr>\\n      <th>경기도</th>\\n      <td>162</td>\\n      <td>137</td>\\n      <td>1</td>\\n      <td>-</td>\\n      <td>-</td>\\n      <td>-</td>\\n      <td>-</td>\\n      <td>-</td>\\n      <td>-</td>\\n      <td>24</td>\\n    </tr>\\n    <tr>\\n      <th>충청북도</th>\\n      <td>27</td>\\n      <td>24</td>\\n      <td>-</td>\\n      <td>5769</td>\\n      <td>293</td>\\n      <td>5476</td>\\n      <td>1542</td>\\n      <td>254</td>\\n      <td>1288</td>\\n      <td>3</td>\\n    </tr>\\n    <tr>\\n      <th>충청남도</th>\\n      <td>108</td>\\n      <td>107</td>\\n      <td>0</td>\\n      <td>-</td>\\n      <td>791</td>\\n      <td>8241</td>\\n      <td>516</td>\\n      <td>-</td>\\n      <td>-</td>\\n      <td>1</td>\\n    </tr>\\n    <tr>\\n      <th>강원도</th>\\n      <td>28</td>\\n      <td>22</td>\\n      <td>-</td>\\n      <td>-</td>\\n      <td>519</td>\\n      <td>-</td>\\n      <td>476</td>\\n      <td>-</td>\\n      <td>-</td>\\n      <td>6</td>\\n    </tr>\\n    <tr>\\n      <th>전라북도</th>\\n      <td>7</td>\\n      <td>5</td>\\n      <td>-</td>\\n      <td>-</td>\\n      <td>-</td>\\n      <td>-</td>\\n      <td>20</td>\\n      <td>-</td>\\n      <td>-</td>\\n      <td>2</td>\\n    </tr>\\n    <tr>\\n      <th>전라남도</th>\\n      <td>4</td>\\n      <td>3</td>\\n      <td>-</td>\\n      <td>-</td>\\n      <td>27</td>\\n      <td>1115</td>\\n      <td>-</td>\\n      <td>36</td>\\n      <td>169</td>\\n      <td>1</td>\\n    </tr>\\n    <tr>\\n      <th>제주도</th>\\n      <td>4</td>\\n      <td>3</td>\\n      <td>0</td>\\n      <td>-</td>\\n      <td>73</td>\\n      <td>-</td>\\n      <td>31</td>\\n      <td>-</td>\\n      <td>-</td>\\n      <td>1</td>\\n    </tr>\\n    <tr>\\n      <th>총합</th>\\n      <td>7576</td>\\n      <td>7243</td>\\n      <td>56</td>\\n      <td>61028</td>\\n      <td>11376</td>\\n      <td>67582</td>\\n      <td>19797</td>\\n      <td>7629</td>\\n      <td>8995</td>\\n      <td>274</td>\\n    </tr>\\n  </tbody>\\n</table>'"
     },
     "execution_count": 8,
     "metadata": {},
     "output_type": "execute_result"
    }
   ],
   "source": [
    "#table.DataFrame.to_html()"
   ]
  },
  {
   "cell_type": "code",
   "execution_count": null,
   "metadata": {},
   "outputs": [],
   "source": []
  }
 ],
 "metadata": {
  "kernelspec": {
   "display_name": "Python 3",
   "language": "python",
   "name": "python3"
  },
  "language_info": {
   "codemirror_mode": {
    "name": "ipython",
    "version": 3
   },
   "file_extension": ".py",
   "mimetype": "text/x-python",
   "name": "python",
   "nbconvert_exporter": "python",
   "pygments_lexer": "ipython3",
   "version": "3.7.6-final"
  }
 },
 "nbformat": 4,
 "nbformat_minor": 4
}