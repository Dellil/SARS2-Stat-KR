{
 "cells": [
  {
   "cell_type": "code",
   "execution_count": 1,
   "metadata": {},
   "outputs": [],
   "source": [
    "from util.table import table\n",
    "from util.region import *\n",
    "from util.Daegu import Daegu\n",
    "# from util.Gangwon import Gangwon\n",
    "from util.Seoul import Seoul\n",
    "from util.KST import kst_time\n",
    "from util.collector import collector"
   ]
  },
  {
   "cell_type": "code",
   "execution_count": 2,
   "metadata": {},
   "outputs": [],
   "source": [
    "from IPython.display import display, Markdown, Latex"
   ]
  },
  {
   "cell_type": "code",
   "execution_count": 3,
   "metadata": {},
   "outputs": [],
   "source": [
    "chart = table()"
   ]
  },
  {
   "cell_type": "code",
   "execution_count": 4,
   "metadata": {},
   "outputs": [],
   "source": [
    "regions = [Seoul().collect, \n",
    "               Daegu().collect,    \n",
    "               busan,   \n",
    "               daejeon,\n",
    "               gwangju,\n",
    "               ulsan,\n",
    "               incheon,\n",
    "               sejong,\n",
    "               gyeongbuk,\n",
    "               gyeongnam,\n",
    "               gyeonggi, \n",
    "               chungbuk,\n",
    "               chungnam,\n",
    "               gangwon,\n",
    "               jeonbuk,\n",
    "               jeonnam,\n",
    "               jeju,\n",
    "               foreign,\n",
    "        ]"
   ]
  },
  {
   "cell_type": "code",
   "execution_count": 5,
   "metadata": {},
   "outputs": [
    {
     "output_type": "stream",
     "name": "stdout",
     "text": "# 강남구 : 23\n# 강동구 : 8\n# 강북구 : 5\n# 강서구 : 22\nSome characters could not be decoded, and were replaced with REPLACEMENT CHARACTER.\n# 관악구 : 19\n# 광진구 : 4\n# 구로구 : 23\n# 금천구 : 7\n# 노원구 : 23\n# 도봉구 : 4\n# 동대문구 : 26\n# 동작구 : 16\n# 마포구 : 13\n# 서대문구 : 12\n# 서초구 : 16\n# 성동구 : 6\n# 성북구 : 13\n# 송파구 : 19\n# 양천구 : 16\n# 영등포구 : 17\n# 용산구 : 8\n# 은평구 : 21\n# 종로구 : 14\n# 중구 : 1\n# 중랑구 : 11\n# 기타 : 20\npass :  서울\n#  북구 :  776\n#  달서구 :  1578\n#  남구 :  1354\n#  서구 :  502\n#  수성구 :  1005\n#  중구 :  246\n#  동구 :  664\n#  달성군 :  452\npass :  대구\npass :  부산\npass :  대전\npass :  광주\npass :  울산\npass :  인천\npass :  세종\npass :  경상북도\npass :  경상남도\npass :  경기도\npass :  충청북도\npass :  충청남도\npass :  강원도\npass :  전라북도\npass :  전라남도\npass :  제주도\npass :  검역\n"
    }
   ],
   "source": [
    "data = collector(regions)"
   ]
  },
  {
   "cell_type": "code",
   "execution_count": 6,
   "metadata": {},
   "outputs": [
    {
     "output_type": "stream",
     "name": "stdout",
     "text": "Save\n"
    },
    {
     "output_type": "display_data",
     "data": {
      "text/plain": "<IPython.core.display.Markdown object>",
      "text/markdown": "\n\n|  지역  | 확진자 |  격리자  |  사망  |  의심환자  |  검사중  |  결과음성  |  자가격리자  |  감시중  |  감시해제  |  퇴원  |\n|:------:|:------:|:--------:|:--------:|:----------:|:--------:|:----------------:|:------------:|:--------:|:----------:|:--:|\n|**총합**|**9,287**|**5,012**|**130**|**115,957**|**8,111**|**145,386**|**14,572**|**4,345**|**19,413**|**4,145**|\n|서울|367|287|0|63,842|4,081|59,761|8,429|2,141|6,288|80|\n|대구|6,577|3,398|91|-|-|-|2,182|-|-|3,088|\n|부산|109|30|2|-|-|-|-|-|-|77|\n|대전|31|22|0|-|131|7,703|62|62|486|9|\n|광주|19|8|-|6,610|28|6,563|1,201|92|1,109|11|\n|울산|37|17|-|6,756|69|6,687|446|48|398|20|\n|인천|44|42|-|17,053|572|16,481|-|-|-|2|\n|세종|44|44|-|-|37|3,814|-|-|-|-|\n|경상북도|1,218|621|33|-|1,652|480|-|1,697|9,232|564|\n|경상남도|87|27|-|12,119|322|11,797|-|-|-|60|\n|경기도|403|277|4|-|-|-|-|-|-|122|\n|충청북도|40|26|-|9,577|174|9,403|1,915|234|1,681|14|\n|충청남도|124|56|0|-|398|16,252|154|-|-|68|\n|강원도|31|13|-|-|294|-|78|-|-|18|\n|전라북도|10|3|-|-|-|-|36|-|-|7|\n|전라남도|8|7|-|-|303|6,445|-|71|219|1|\n|제주도|7|3|0|-|50|-|69|-|-|4|\n|검역|131|131|-|-|-|-|-|-|-|-|\n|**총합**|**9,287**|**5,012**|**130**|**115,957**|**8,111**|**145,386**|**14,572**|**4,345**|**19,413**|**4,145**|\n\n"
     },
     "metadata": {}
    }
   ],
   "source": [
    "display(Markdown('''\n",
    "{}\n",
    "'''.format(chart.generate(data))))"
   ]
  },
  {
   "cell_type": "code",
   "execution_count": 7,
   "metadata": {},
   "outputs": [],
   "source": [
    "readme = open('README.md', mode='wt', encoding='utf-8')\n",
    "readme.write('''\n",
    "## 중국 우한 바이러스(SARS-CoV-2) 대한민국 확진자 통계\n",
    "### Confirmed cases of China-Virus in Korea\n",
    "{0} KST\n",
    "\n",
    "각 **시/도/구/군청** 사이트에 공개되어 있는 **공식 자료**를 수합하여 만든 통계입니다.\n",
    "질병관리본부에서 발표되는 공식 수치와는 다를 수 있습니다.\n",
    "\n",
    "{1}\n",
    "\n",
    "** 부산, 경상북도 홈페이지에 표시된 수치가 질병관리본부 발표보다 적습니다. **<br>\n",
    "#1 확진자(중국인) 제외\n",
    "'''.format(kst_time(), chart.Chart))\n",
    "readme.close()"
   ]
  },
  {
   "cell_type": "code",
   "execution_count": null,
   "metadata": {},
   "outputs": [],
   "source": [
    "#region_list = [seoul(), \n",
    "#               Daegu().collect(),    \n",
    "#               busan(),   \n",
    "#               daejeon(),\n",
    "#               gwangju(infected=13, quarantine=9, self_quarantine=1, care=3),\n",
    "#               ulsan(),\n",
    "#               incheon(),\n",
    "#               sejong(),\n",
    "#               gyeongbuk(),\n",
    "#               gyeongnam(),\n",
    "#               gyeonggi(), \n",
    "#               chungbuk(),\n",
    "#               chungnam(),\n",
    "#               gangwon(),\n",
    "#               jeonbuk(),\n",
    "#               jeonnam(),\n",
    "#               jeju(),\n",
    "#        ]"
   ]
  }
 ],
 "metadata": {
  "kernelspec": {
   "display_name": "Python 3",
   "language": "python",
   "name": "python3"
  },
  "language_info": {
   "codemirror_mode": {
    "name": "ipython",
    "version": 3
   },
   "file_extension": ".py",
   "mimetype": "text/x-python",
   "name": "python",
   "nbconvert_exporter": "python",
   "pygments_lexer": "ipython3",
   "version": "3.7.6-final"
  }
 },
 "nbformat": 4,
 "nbformat_minor": 4
}