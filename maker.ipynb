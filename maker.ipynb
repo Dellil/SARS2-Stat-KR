{
 "cells": [
  {
   "cell_type": "code",
   "execution_count": 1,
   "metadata": {},
   "outputs": [],
   "source": [
    "from util.table import table\n",
    "from util.region import *\n",
    "from util.Daegu import Daegu\n",
    "# from util.Gangwon import Gangwon\n",
    "from util.Seoul import Seoul\n",
    "from util.KST import kst_time\n",
    "from util.collector import collector"
   ]
  },
  {
   "cell_type": "code",
   "execution_count": 2,
   "metadata": {},
   "outputs": [],
   "source": [
    "from IPython.display import display, Markdown, Latex"
   ]
  },
  {
   "cell_type": "code",
   "execution_count": 3,
   "metadata": {},
   "outputs": [],
   "source": [
    "chart = table()"
   ]
  },
  {
   "cell_type": "code",
   "execution_count": 4,
   "metadata": {},
   "outputs": [],
   "source": [
    "regions = [Seoul().collect, \n",
    "               Daegu().collect,    \n",
    "               busan,   \n",
    "               daejeon,\n",
    "               gwangju,\n",
    "               ulsan,\n",
    "               incheon,\n",
    "               sejong,\n",
    "               gyeongbuk,\n",
    "               gyeongnam,\n",
    "               gyeonggi, \n",
    "               chungbuk,\n",
    "               chungnam,\n",
    "               gangwon,\n",
    "               jeonbuk,\n",
    "               jeonnam,\n",
    "               jeju,\n",
    "               foreign,\n",
    "        ]"
   ]
  },
  {
   "cell_type": "code",
   "execution_count": 6,
   "metadata": {},
   "outputs": [
    {
     "output_type": "stream",
     "name": "stdout",
     "text": "# 강남구 : 38\n# 강동구 : 10\n# 강북구 : 5\n# 강서구 : 22\nSome characters could not be decoded, and were replaced with REPLACEMENT CHARACTER.\n# 관악구 : 33\n# 광진구 : 6\n# 구로구 : 34\n# 금천구 : 12\n# 노원구 : 22\n# 도봉구 : 6\n# 동대문구 : 26\n# 동작구 : 24\n# 마포구 : 17\n# 서대문구 : 13\n# 서초구 : 24\n# 성동구 : 6\n# 성북구 : 15\n# 송파구 : 25\n# 양천구 : 17\n# 영등포구 : 22\n# 용산구 : 12\n# 은평구 : 21\n# 종로구 : 14\n# 중구 : 4\n# 중랑구 : 13\n# 기타 : 30\npass :  서울\n#  북구 :  782\n#  달서구 :  1591\n#  남구 :  1357\n#  서구 :  518\n#  수성구 :  1023\n#  중구 :  246\n#  동구 :  670\n#  달성군 :  602\npass :  대구\npass :  부산\npass :  대전\npass :  광주\npass :  울산\npass :  인천\npass :  세종\npass :  경상북도\npass :  경상남도\npass :  경기도\npass :  충청북도\npass :  충청남도\npass :  강원도\npass :  전라북도\npass :  전라남도\npass :  제주도\npass :  검역\n"
    }
   ],
   "source": [
    "data = collector(regions)"
   ]
  },
  {
   "cell_type": "code",
   "execution_count": 7,
   "metadata": {},
   "outputs": [
    {
     "output_type": "stream",
     "name": "stdout",
     "text": "Save\n"
    },
    {
     "output_type": "display_data",
     "data": {
      "text/plain": "<IPython.core.display.Markdown object>",
      "text/markdown": "\n\n|  지역  | 확진자 |  격리자  |  사망  |  의심환자  |  검사중  |  결과음성  |  자가격리자  |  감시중  |  감시해제  |  퇴원  |\n|:------:|:------:|:--------:|:--------:|:----------:|:--------:|:----------------:|:------------:|:--------:|:----------:|:--:|\n|**총합**|**9,922**|**4,306**|**161**|**121,919**|**8,274**|**161,700**|**16,198**|**5,155**|**20,964**|**5,405**|\n|서울|471|365|0|71,195|4,600|66,595|9,700|2,587|7,113|106|\n|대구|6,789|2,651|110|-|-|-|1,723|-|-|4,028|\n|부산|118|32|3|-|-|-|-|-|-|83|\n|대전|36|18|0|-|215|8,681|191|191|531|18|\n|광주|22|8|-|7,218|34|7,162|1,203|49|1,154|14|\n|울산|39|19|-|-|-|7,124|516|98|418|20|\n|인천|67|65|-|19,262|477|18,785|-|-|-|2|\n|세종|46|46|-|-|55|4,256|-|-|-|-|\n|경상북도|1,300|450|42|-|784|430|-|1,623|9,744|758|\n|경상남도|95|30|-|13,382|296|13,086|-|-|-|65|\n|경기도|478|308|6|-|-|-|-|-|-|164|\n|충청북도|44|21|-|10,862|275|10,587|2,166|390|1,776|23|\n|충청남도|128|38|0|-|432|17,663|155|-|-|90|\n|강원도|36|13|-|-|308|-|339|-|-|23|\n|전라북도|14|7|-|-|-|-|45|-|-|7|\n|전라남도|13|12|-|-|633|7,331|-|217|228|1|\n|제주도|9|6|0|-|165|-|160|-|-|3|\n|검역|217|217|-|-|-|-|-|-|-|-|\n|**총합**|**9,922**|**4,306**|**161**|**121,919**|**8,274**|**161,700**|**16,198**|**5,155**|**20,964**|**5,405**|\n\n"
     },
     "metadata": {}
    }
   ],
   "source": [
    "display(Markdown('''\n",
    "{}\n",
    "'''.format(chart.generate(data))))"
   ]
  },
  {
   "cell_type": "code",
   "execution_count": 8,
   "metadata": {},
   "outputs": [],
   "source": [
    "readme = open('README.md', mode='wt', encoding='utf-8')\n",
    "readme.write('''\n",
    "## 중국 우한 바이러스(SARS-CoV-2) 대한민국 확진자 통계\n",
    "### Confirmed cases of China-Virus in Korea\n",
    "{0} KST\n",
    "\n",
    "각 **시/도/구/군청** 사이트에 공개되어 있는 **공식 자료**를 수합하여 만든 통계입니다.\n",
    "질병관리본부에서 발표되는 공식 수치와는 다를 수 있습니다.\n",
    "\n",
    "{1}\n",
    "\n",
    "** 부산, 경상남도 홈페이지에 표시된 수치가 질병관리본부 발표보다 적습니다. **<br>\n",
    "#1 확진자(중국인) 제외\n",
    "'''.format(kst_time(), chart.Chart))\n",
    "readme.close()"
   ]
  },
  {
   "cell_type": "code",
   "execution_count": null,
   "metadata": {},
   "outputs": [],
   "source": [
    "#region_list = [seoul(), \n",
    "#               Daegu().collect(),    \n",
    "#               busan(),   \n",
    "#               daejeon(),\n",
    "#               gwangju(infected=13, quarantine=9, self_quarantine=1, care=3),\n",
    "#               ulsan(),\n",
    "#               incheon(),\n",
    "#               sejong(),\n",
    "#               gyeongbuk(),\n",
    "#               gyeongnam(),\n",
    "#               gyeonggi(), \n",
    "#               chungbuk(),\n",
    "#               chungnam(),\n",
    "#               gangwon(),\n",
    "#               jeonbuk(),\n",
    "#               jeonnam(),\n",
    "#               jeju(),\n",
    "#        ]"
   ]
  },
  {
   "cell_type": "code",
   "execution_count": null,
   "metadata": {},
   "outputs": [],
   "source": []
  }
 ],
 "metadata": {
  "kernelspec": {
   "display_name": "Python 3",
   "language": "python",
   "name": "python3"
  },
  "language_info": {
   "codemirror_mode": {
    "name": "ipython",
    "version": 3
   },
   "file_extension": ".py",
   "mimetype": "text/x-python",
   "name": "python",
   "nbconvert_exporter": "python",
   "pygments_lexer": "ipython3",
   "version": "3.7.6-final"
  }
 },
 "nbformat": 4,
 "nbformat_minor": 4
}