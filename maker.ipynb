{
 "cells": [
  {
   "cell_type": "code",
   "execution_count": 1,
   "metadata": {},
   "outputs": [],
   "source": [
    "from util.table import table\n",
    "from util.region import *\n",
    "from util.Daegu import Daegu\n",
    "from util.Gangwon import Gangwon\n",
    "from util.Seoul import Seoul\n",
    "from util.KST import kst_time\n",
    "from util.collector import collector"
   ]
  },
  {
   "cell_type": "code",
   "execution_count": 2,
   "metadata": {},
   "outputs": [],
   "source": [
    "from IPython.display import display, Markdown, Latex"
   ]
  },
  {
   "cell_type": "code",
   "execution_count": 3,
   "metadata": {},
   "outputs": [],
   "source": [
    "chart = table()"
   ]
  },
  {
   "cell_type": "code",
   "execution_count": 4,
   "metadata": {},
   "outputs": [],
   "source": [
    "regions = [Seoul().collect, \n",
    "               Daegu().collect,    \n",
    "               busan,   \n",
    "               daejeon,\n",
    "               gwangju,\n",
    "               ulsan,\n",
    "               incheon,\n",
    "               sejong,\n",
    "               gyeongbuk,\n",
    "               gyeongnam,\n",
    "               gyeonggi, \n",
    "               chungbuk,\n",
    "               chungnam,\n",
    "               gangwon,\n",
    "               jeonbuk,\n",
    "               jeonnam,\n",
    "               jeju,\n",
    "        ]"
   ]
  },
  {
   "cell_type": "code",
   "execution_count": 5,
   "metadata": {},
   "outputs": [
    {
     "name": "stdout",
     "output_type": "stream",
     "text": [
      "# 강남구 : 14\n",
      "# 강동구 : 5\n",
      "# 강북구 : 5\n",
      "# 강서구 : 15\n",
      "# 관악구 : 17\n",
      "# 광진구 : 2\n",
      "# 구로구 : 22\n",
      "# 금천구 : 5\n",
      "# 노원구 : 16\n",
      "# 도봉구 : 2\n",
      "# 동대문구 : 25\n",
      "# 동작구 : 8\n",
      "# 마포구 : 10\n",
      "# 서대문구 : 8\n",
      "# 서초구 : 9\n",
      "# 성동구 : 3\n",
      "# 성북구 : 9\n",
      "# 송파구 : 16\n",
      "# 양천구 : 15\n",
      "# 영등포구 : 13\n"
     ]
    },
    {
     "name": "stderr",
     "output_type": "stream",
     "text": [
      "C:\\Users\\LK-LAB\\Miniconda3\\lib\\site-packages\\urllib3\\connectionpool.py:1004: InsecureRequestWarning: Unverified HTTPS request is being made to host 'www.ydp.go.kr'. Adding certificate verification is strongly advised. See: https://urllib3.readthedocs.io/en/latest/advanced-usage.html#ssl-warnings\n",
      "  InsecureRequestWarning,\n"
     ]
    },
    {
     "name": "stdout",
     "output_type": "stream",
     "text": [
      "# 용산구 : 4\n",
      "# 은평구 : 18\n",
      "# 종로구 : 11\n",
      "# 중구 : 1\n",
      "# 중랑구 : 5\n",
      "# 기타 : 18\n",
      "pass :  서울\n",
      "#  북구 :  738\n",
      "#  달서구 :  1547\n",
      "#  남구 :  1333\n",
      "#  서구 :  401\n",
      "#  수성구 :  975\n",
      "#  중구 :  238\n",
      "#  동구 :  619\n",
      "#  달성군 :  373\n",
      "pass :  대구\n",
      "pass :  부산\n",
      "pass :  대전\n",
      "pass :  광주\n",
      "pass :  울산\n",
      "pass :  인천\n",
      "pass :  세종\n",
      "pass :  경상북도\n",
      "pass :  경상남도\n",
      "pass :  경기도\n",
      "pass :  충청북도\n",
      "pass :  충청남도\n",
      "pass :  강원도\n",
      "pass :  전라북도\n",
      "pass :  전라남도\n",
      "pass :  제주도\n"
     ]
    }
   ],
   "source": [
    "data = collector(regions)"
   ]
  },
  {
   "cell_type": "code",
   "execution_count": 6,
   "metadata": {},
   "outputs": [
    {
     "name": "stdout",
     "output_type": "stream",
     "text": [
      "Save\n"
     ]
    },
    {
     "data": {
      "text/markdown": [
       "\n",
       "\n",
       "|  지역  | 확진자 |  격리자  |  사망  |  의사환자  |  검사중  |  결과음성  |  자가격리자  |  감시중  |  감시해제  |  퇴원  |\n",
       "|:------:|:------:|:--------:|:--------:|:----------:|:--------:|:----------------:|:------------:|:--------:|:----------:|:--:|\n",
       "|**총합**|**8,425**|**6,822**|**85**|**90,161**|**8,167**|**108,610**|**17,058**|**4,843**|**15,246**|**1,518**|\n",
       "|서울|276|222|0|49,738|4,595|45,143|6,495|2,469|4,026|54|\n",
       "|대구|6,224|5,108|57|-|-|-|6,051|-|-|1,059|\n",
       "|부산|102|46|1|-|-|-|-|-|-|55|\n",
       "|대전|22|18|0|-|164|6,586|76|76|412|4|\n",
       "|광주|18|12|-|5,493|50|5,443|1,137|102|1,035|6|\n",
       "|울산|33|23|-|5,777|145|5,632|400|62|338|10|\n",
       "|인천|32|30|-|14,413|288|14,125|-|-|-|2|\n",
       "|세종|41|41|-|-|42|2,836|-|-|-|-|\n",
       "|경상북도|1,122|873|24|-|991|89|-|1,967|7,730|225|\n",
       "|경상남도|78|74|-|6,827|536|6,291|844|-|-|4|\n",
       "|경기도|278|216|3|-|-|-|-|-|-|59|\n",
       "|충청북도|33|28|-|7,913|242|7,671|1,655|156|1,499|5|\n",
       "|충청남도|118|99|0|-|772|13,098|267|-|-|19|\n",
       "|강원도|30|22|-|-|245|-|72|-|-|8|\n",
       "|전라북도|9|4|-|-|-|-|9|-|-|5|\n",
       "|전라남도|5|4|-|-|50|1,696|-|11|206|1|\n",
       "|제주도|4|2|0|-|47|-|52|-|-|2|\n",
       "|**총합**|**8,425**|**6,822**|**85**|**90,161**|**8,167**|**108,610**|**17,058**|**4,843**|**15,246**|**1,518**|\n",
       "\n"
      ],
      "text/plain": [
       "<IPython.core.display.Markdown object>"
      ]
     },
     "metadata": {},
     "output_type": "display_data"
    }
   ],
   "source": [
    "display(Markdown('''\n",
    "{}\n",
    "'''.format(chart.generate(data))))"
   ]
  },
  {
   "cell_type": "code",
   "execution_count": 7,
   "metadata": {},
   "outputs": [],
   "source": [
    "readme = open('README.md', mode='wt', encoding='utf-8')\n",
    "readme.write('''\n",
    "## 중국 우한 바이러스(SARS-CoV-2) 대한민국 확진자 통계\n",
    "### Confirmed cases of China-Virus in Korea\n",
    "{0} KST\n",
    "\n",
    "각 **시/도/구/군청** 사이트에 공개되어 있는 **공식 자료**를 수합하여 만든 통계입니다.\n",
    "질병관리본부에서 발표되는 공식 수치와는 다를 수 있습니다.\n",
    "\n",
    "{1}\n",
    "\n",
    "** 부산, 경상북도 홈페이지에 표시된 수치가 질병관리본부 발표보다 적습니다. **<br>\n",
    "#1 확진자(중국인) 제외\n",
    "'''.format(kst_time(), chart.Chart))\n",
    "readme.close()"
   ]
  },
  {
   "cell_type": "code",
   "execution_count": null,
   "metadata": {},
   "outputs": [],
   "source": [
    "#region_list = [seoul(), \n",
    "#               Daegu().collect(),    \n",
    "#               busan(),   \n",
    "#               daejeon(),\n",
    "#               gwangju(infected=13, quarantine=9, self_quarantine=1, care=3),\n",
    "#               ulsan(),\n",
    "#               incheon(),\n",
    "#               sejong(),\n",
    "#               gyeongbuk(),\n",
    "#               gyeongnam(),\n",
    "#               gyeonggi(), \n",
    "#               chungbuk(),\n",
    "#               chungnam(),\n",
    "#               gangwon(),\n",
    "#               jeonbuk(),\n",
    "#               jeonnam(),\n",
    "#               jeju(),\n",
    "#        ]"
   ]
  },
  {
   "cell_type": "code",
   "execution_count": null,
   "metadata": {},
   "outputs": [],
   "source": []
  }
 ],
 "metadata": {
  "kernelspec": {
   "display_name": "Python 3",
   "language": "python",
   "name": "python3"
  },
  "language_info": {
   "codemirror_mode": {
    "name": "ipython",
    "version": 3
   },
   "file_extension": ".py",
   "mimetype": "text/x-python",
   "name": "python",
   "nbconvert_exporter": "python",
   "pygments_lexer": "ipython3",
   "version": "3.7.6"
  }
 },
 "nbformat": 4,
 "nbformat_minor": 4
}
