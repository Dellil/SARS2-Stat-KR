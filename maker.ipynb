{
 "cells": [
  {
   "cell_type": "code",
   "execution_count": 1,
   "metadata": {},
   "outputs": [],
   "source": [
    "from util.table import table\n",
    "from util.region import *\n",
    "from util.Daegu import Daegu\n",
    "# from util.Gangwon import Gangwon\n",
    "from util.Seoul import Seoul\n",
    "from util.KST import kst_time\n",
    "from util.collector import collector"
   ]
  },
  {
   "cell_type": "code",
   "execution_count": 2,
   "metadata": {},
   "outputs": [],
   "source": [
    "from IPython.display import display, Markdown, Latex"
   ]
  },
  {
   "cell_type": "code",
   "execution_count": 3,
   "metadata": {},
   "outputs": [],
   "source": [
    "chart = table()"
   ]
  },
  {
   "cell_type": "code",
   "execution_count": 4,
   "metadata": {},
   "outputs": [],
   "source": [
    "regions = [Seoul().collect, \n",
    "               Daegu().collect,    \n",
    "               busan,   \n",
    "               daejeon,\n",
    "               gwangju,\n",
    "               ulsan,\n",
    "               incheon,\n",
    "               sejong,\n",
    "               gyeongbuk,\n",
    "               gyeongnam,\n",
    "               gyeonggi, \n",
    "               chungbuk,\n",
    "               chungnam,\n",
    "               gangwon,\n",
    "               jeonbuk,\n",
    "               jeonnam,\n",
    "               jeju,\n",
    "               foreign,\n",
    "        ]"
   ]
  },
  {
   "cell_type": "code",
   "execution_count": 5,
   "metadata": {},
   "outputs": [
    {
     "output_type": "stream",
     "name": "stdout",
     "text": "# 강남구 : 41\n# 강동구 : 10\n# 강북구 : 5\n# 강서구 : 22\n# 관악구 : 34\n# 광진구 : 6\n# 구로구 : 34\n# 금천구 : 12\n# 노원구 : 22\n# 도봉구 : 6\n# 동대문구 : 26\n# 동작구 : 25\n# 마포구 : 17\n# 서대문구 : 13\n# 서초구 : 25\n# 성동구 : 6\n# 성북구 : 15\n# 송파구 : 28\n# 양천구 : 18\n# 영등포구 : 23\n# 용산구 : 11\n# 은평구 : 21\n# 종로구 : 14\n# 중구 : 4\n# 중랑구 : 13\n# 기타 : 32\npass :  서울\n#  북구 :  782\n#  달서구 :  1593\n#  남구 :  1358\n#  서구 :  520\n#  수성구 :  1025\n#  중구 :  247\n#  동구 :  672\n#  달성군 :  602\npass :  대구\npass :  부산\npass :  대전\npass :  광주\npass :  울산\npass :  인천\npass :  세종\npass :  경상북도\npass :  경상남도\npass :  경기도\npass :  충청북도\npass :  충청남도\npass :  강원도\npass :  전라북도\npass :  전라남도\npass :  제주도\npass :  검역\n"
    }
   ],
   "source": [
    "data = collector(regions)"
   ]
  },
  {
   "cell_type": "code",
   "execution_count": 6,
   "metadata": {},
   "outputs": [
    {
     "output_type": "stream",
     "name": "stdout",
     "text": "Save\n"
    },
    {
     "output_type": "display_data",
     "data": {
      "text/plain": "<IPython.core.display.Markdown object>",
      "text/markdown": "\n\n|  지역  | 확진자 |  격리자  |  사망  |  의심환자  |  검사중  |  결과음성  |  자가격리자  |  감시중  |  감시해제  |  퇴원  |\n|:------:|:------:|:--------:|:--------:|:----------:|:--------:|:----------------:|:------------:|:--------:|:----------:|:--:|\n|**총합**|**9,988**|**4,220**|**163**|**125,732**|**8,344**|**158,930**|**16,539**|**5,488**|**20,985**|**5,556**|\n|서울|483|367|0|73,638|4,682|68,956|10,303|3,061|7,242|116|\n|대구|6,799|2,540|111|-|-|-|1,834|-|-|4,148|\n|부산|119|33|3|-|-|-|-|-|-|83|\n|대전|36|18|0|-|138|8,968|178|178|559|18|\n|광주|24|10|-|7,423|48|7,351|1,203|47|1,156|14|\n|울산|38|17|-|-|-|82|102|1|101|21|\n|인천|72|70|-|19,823|485|19,338|-|-|-|2|\n|세종|46|46|-|-|24|4,347|-|-|-|-|\n|경상북도|1,302|440|43|-|625|133|-|1,491|9,903|770|\n|경상남도|101|36|-|13,535|372|13,163|-|-|-|65|\n|경기도|501|324|6|-|-|-|-|-|-|171|\n|충청북도|44|21|-|11,313|319|10,994|2,191|396|1,795|23|\n|충청남도|131|40|0|-|535|17,925|146|-|-|91|\n|강원도|38|15|-|-|320|-|370|-|-|23|\n|전라북도|14|7|-|-|-|-|52|-|-|7|\n|전라남도|14|13|-|-|630|7,673|-|314|229|1|\n|제주도|9|6|0|-|166|-|160|-|-|3|\n|검역|217|217|-|-|-|-|-|-|-|-|\n|**총합**|**9,988**|**4,220**|**163**|**125,732**|**8,344**|**158,930**|**16,539**|**5,488**|**20,985**|**5,556**|\n\n"
     },
     "metadata": {}
    }
   ],
   "source": [
    "display(Markdown('''\n",
    "{}\n",
    "'''.format(chart.generate(data))))"
   ]
  },
  {
   "cell_type": "code",
   "execution_count": 7,
   "metadata": {},
   "outputs": [],
   "source": [
    "readme = open('README.md', mode='wt', encoding='utf-8')\n",
    "readme.write('''\n",
    "## 중국 우한 바이러스(SARS-CoV-2) 대한민국 확진자 통계\n",
    "### Confirmed cases of China-Virus in Korea\n",
    "{0} KST\n",
    "\n",
    "각 **시/도/구/군청** 사이트에 공개되어 있는 **공식 자료**를 수합하여 만든 통계입니다.\n",
    "질병관리본부에서 발표되는 공식 수치와는 다를 수 있습니다.\n",
    "\n",
    "{1}\n",
    "\n",
    "** 부산, 경상남도 홈페이지에 표시된 수치가 질병관리본부 발표보다 적습니다. **<br>\n",
    "#1 확진자(중국인) 제외\n",
    "'''.format(kst_time(), chart.Chart))\n",
    "readme.close()"
   ]
  },
  {
   "cell_type": "code",
   "execution_count": null,
   "metadata": {},
   "outputs": [],
   "source": [
    "#region_list = [seoul(), \n",
    "#               Daegu().collect(),    \n",
    "#               busan(),   \n",
    "#               daejeon(),\n",
    "#               gwangju(infected=13, quarantine=9, self_quarantine=1, care=3),\n",
    "#               ulsan(),\n",
    "#               incheon(),\n",
    "#               sejong(),\n",
    "#               gyeongbuk(),\n",
    "#               gyeongnam(),\n",
    "#               gyeonggi(), \n",
    "#               chungbuk(),\n",
    "#               chungnam(),\n",
    "#               gangwon(),\n",
    "#               jeonbuk(),\n",
    "#               jeonnam(),\n",
    "#               jeju(),\n",
    "#        ]"
   ]
  },
  {
   "cell_type": "code",
   "execution_count": null,
   "metadata": {},
   "outputs": [],
   "source": []
  }
 ],
 "metadata": {
  "kernelspec": {
   "display_name": "Python 3",
   "language": "python",
   "name": "python3"
  },
  "language_info": {
   "codemirror_mode": {
    "name": "ipython",
    "version": 3
   },
   "file_extension": ".py",
   "mimetype": "text/x-python",
   "name": "python",
   "nbconvert_exporter": "python",
   "pygments_lexer": "ipython3",
   "version": "3.7.6-final"
  }
 },
 "nbformat": 4,
 "nbformat_minor": 4
}