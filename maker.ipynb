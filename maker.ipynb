{
 "cells": [
  {
   "cell_type": "code",
   "execution_count": 1,
   "metadata": {},
   "outputs": [],
   "source": [
    "from util.table import table\n",
    "from util.region import *\n",
    "from util.Daegu import Daegu\n",
    "# from util.Gangwon import Gangwon\n",
    "from util.Seoul import Seoul\n",
    "from util.KST import kst_time\n",
    "from util.collector import collector"
   ]
  },
  {
   "cell_type": "code",
   "execution_count": 2,
   "metadata": {},
   "outputs": [],
   "source": [
    "from IPython.display import display, Markdown, Latex"
   ]
  },
  {
   "cell_type": "code",
   "execution_count": 3,
   "metadata": {},
   "outputs": [],
   "source": [
    "chart = table()"
   ]
  },
  {
   "cell_type": "code",
   "execution_count": 4,
   "metadata": {},
   "outputs": [],
   "source": [
    "regions = [Seoul().collect, \n",
    "               Daegu().collect,    \n",
    "               busan,   \n",
    "               daejeon,\n",
    "               gwangju,\n",
    "               ulsan,\n",
    "               incheon,\n",
    "               sejong,\n",
    "               gyeongbuk,\n",
    "               gyeongnam,\n",
    "               gyeonggi, \n",
    "               chungbuk,\n",
    "               chungnam,\n",
    "               gangwon,\n",
    "               jeonbuk,\n",
    "               jeonnam,\n",
    "               jeju,\n",
    "        ]"
   ]
  },
  {
   "cell_type": "code",
   "execution_count": 5,
   "metadata": {},
   "outputs": [
    {
     "output_type": "stream",
     "name": "stdout",
     "text": "# 강남구 : 17\n# 강동구 : 7\n# 강북구 : 5\n# 강서구 : 18\nSome characters could not be decoded, and were replaced with REPLACEMENT CHARACTER.\n# 관악구 : 19\n# 광진구 : 4\n# 구로구 : 23\n# 금천구 : 5\n# 노원구 : 21\n# 도봉구 : 2\n# 동대문구 : 25\n# 동작구 : 13\n# 마포구 : 13\n# 서대문구 : 8\n# 서초구 : 9\n# 성동구 : 6\n# 성북구 : 12\n# 송파구 : 18\n# 양천구 : 16\n# 영등포구 : 18\n# 용산구 : 5\n# 은평구 : 19\n# 종로구 : 11\n# 중구 : 1\n# 중랑구 : 8\n# 기타 : 18\npass :  서울\n#  북구 :  759\n#  달서구 :  1560\n#  남구 :  1338\n#  서구 :  475\n#  수성구 :  990\n#  중구 :  243\n#  동구 :  636\n#  달성군 :  433\npass :  대구\npass :  부산\npass :  대전\npass :  광주\npass :  울산\npass :  인천\npass :  세종\npass :  경상북도\npass :  경상남도\npass :  경기도\npass :  충청북도\npass :  충청남도\npass :  강원도\npass :  전라북도\npass :  전라남도\npass :  제주도\n"
    }
   ],
   "source": [
    "data = collector(regions)"
   ]
  },
  {
   "cell_type": "code",
   "execution_count": 7,
   "metadata": {},
   "outputs": [
    {
     "output_type": "stream",
     "name": "stdout",
     "text": "Save\n"
    },
    {
     "output_type": "display_data",
     "data": {
      "text/plain": "<IPython.core.display.Markdown object>",
      "text/markdown": "\n\n|  지역  | 확진자 |  격리자  |  사망  |  의사환자  |  검사중  |  결과음성  |  자가격리자  |  감시중  |  감시해제  |  퇴원  |\n|:------:|:------:|:--------:|:--------:|:----------:|:--------:|:----------------:|:------------:|:--------:|:----------:|:--:|\n|**총합**|**8,818**|**6,105**|**102**|**47,240**|**8,875**|**129,604**|**15,309**|**5,018**|**16,693**|**2,611**|**56,445**|\n|서울|321|258|0|-|4,174|52,271|7,617|3,077|4,539|63|56,445|\n|대구|6,434|4,479|70|-|-|-|3,977|-|-|1,885|-|\n|부산|104|38|1|-|-|-|-|-|-|65|-|\n|대전|23|17|0|-|104|7,201|74|74|436|6|-|\n|광주|19|9|-|5,953|77|5,858|1,158|69|1,089|10|-|\n|울산|36|23|-|6,339|126|6,213|432|44|388|13|-|\n|인천|40|38|-|15,385|259|15,126|-|-|-|2|-|\n|세종|41|41|-|-|47|3,088|-|-|-|-|-|\n|경상북도|1,190|784|28|-|2,646|93|-|1,614|8,460|378|-|\n|경상남도|83|43|-|10,930|258|10,672|-|-|-|40|-|\n|경기도|323|241|3|-|-|-|-|-|-|79|-|\n|충청북도|35|26|-|8,633|187|8,446|1,694|123|1,571|9|-|\n|충청남도|120|81|0|-|539|14,799|166|-|-|39|-|\n|강원도|30|18|-|-|262|-|66|-|-|12|-|\n|전라북도|10|3|-|-|-|-|51|-|-|7|-|\n|전라남도|5|4|-|-|154|5,837|-|17|210|1|-|\n|제주도|4|2|0|-|42|-|74|-|-|2|-|\n|**총합**|**8,818**|**6,105**|**102**|**47,240**|**8,875**|**129,604**|**15,309**|**5,018**|**16,693**|**2,611**|**56,445**|\n|**총합**|**8,818**|**6,105**|**102**|**47,240**|**8,875**|**129,604**|**15,309**|**5,018**|**16,693**|**2,611**|**56,445**|\n|서울|321|258|0|-|4,174|52,271|7,617|3,077|4,539|63|56,445|\n|대구|6,434|4,479|70|-|-|-|3,977|-|-|1,885|-|\n|부산|104|38|1|-|-|-|-|-|-|65|-|\n|대전|23|17|0|-|104|7,201|74|74|436|6|-|\n|광주|19|9|-|5,953|77|5,858|1,158|69|1,089|10|-|\n|울산|36|23|-|6,339|126|6,213|432|44|388|13|-|\n|인천|40|38|-|15,385|259|15,126|-|-|-|2|-|\n|세종|41|41|-|-|47|3,088|-|-|-|-|-|\n|경상북도|1,190|784|28|-|2,646|93|-|1,614|8,460|378|-|\n|경상남도|83|43|-|10,930|258|10,672|-|-|-|40|-|\n|경기도|323|241|3|-|-|-|-|-|-|79|-|\n|충청북도|35|26|-|8,633|187|8,446|1,694|123|1,571|9|-|\n|충청남도|120|81|0|-|539|14,799|166|-|-|39|-|\n|강원도|30|18|-|-|262|-|66|-|-|12|-|\n|전라북도|10|3|-|-|-|-|51|-|-|7|-|\n|전라남도|5|4|-|-|154|5,837|-|17|210|1|-|\n|제주도|4|2|0|-|42|-|74|-|-|2|-|\n|**총합**|**8,818**|**6,105**|**102**|**47,240**|**8,875**|**129,604**|**15,309**|**5,018**|**16,693**|**2,611**|**56,445**|\n\n"
     },
     "metadata": {}
    }
   ],
   "source": [
    "display(Markdown('''\n",
    "{}\n",
    "'''.format(chart.generate(data))))"
   ]
  },
  {
   "cell_type": "code",
   "execution_count": 8,
   "metadata": {},
   "outputs": [],
   "source": [
    "readme = open('README.md', mode='wt', encoding='utf-8')\n",
    "readme.write('''\n",
    "## 중국 우한 바이러스(SARS-CoV-2) 대한민국 확진자 통계\n",
    "### Confirmed cases of China-Virus in Korea\n",
    "{0} KST\n",
    "\n",
    "각 **시/도/구/군청** 사이트에 공개되어 있는 **공식 자료**를 수합하여 만든 통계입니다.\n",
    "질병관리본부에서 발표되는 공식 수치와는 다를 수 있습니다.\n",
    "\n",
    "{1}\n",
    "\n",
    "** 부산, 경상북도 홈페이지에 표시된 수치가 질병관리본부 발표보다 적습니다. **<br>\n",
    "#1 확진자(중국인) 제외\n",
    "'''.format(kst_time(), chart.Chart))\n",
    "readme.close()"
   ]
  },
  {
   "cell_type": "code",
   "execution_count": null,
   "metadata": {},
   "outputs": [],
   "source": [
    "#region_list = [seoul(), \n",
    "#               Daegu().collect(),    \n",
    "#               busan(),   \n",
    "#               daejeon(),\n",
    "#               gwangju(infected=13, quarantine=9, self_quarantine=1, care=3),\n",
    "#               ulsan(),\n",
    "#               incheon(),\n",
    "#               sejong(),\n",
    "#               gyeongbuk(),\n",
    "#               gyeongnam(),\n",
    "#               gyeonggi(), \n",
    "#               chungbuk(),\n",
    "#               chungnam(),\n",
    "#               gangwon(),\n",
    "#               jeonbuk(),\n",
    "#               jeonnam(),\n",
    "#               jeju(),\n",
    "#        ]"
   ]
  },
  {
   "cell_type": "code",
   "execution_count": null,
   "metadata": {},
   "outputs": [],
   "source": []
  }
 ],
 "metadata": {
  "kernelspec": {
   "display_name": "Python 3",
   "language": "python",
   "name": "python3"
  },
  "language_info": {
   "codemirror_mode": {
    "name": "ipython",
    "version": 3
   },
   "file_extension": ".py",
   "mimetype": "text/x-python",
   "name": "python",
   "nbconvert_exporter": "python",
   "pygments_lexer": "ipython3",
   "version": "3.7.6-final"
  }
 },
 "nbformat": 4,
 "nbformat_minor": 4
}