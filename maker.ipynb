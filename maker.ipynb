{
 "cells": [
  {
   "cell_type": "code",
   "execution_count": 1,
   "metadata": {},
   "outputs": [],
   "source": [
    "from util.table import table\n",
    "from util.region import *\n",
    "from util.Daegu import Daegu\n",
    "from util.Gangwon import Gangwon\n",
    "from util.Seoul import Seoul\n",
    "from util.KST import kst_time\n",
    "from util.collector import collector"
   ]
  },
  {
   "cell_type": "code",
   "execution_count": 2,
   "metadata": {},
   "outputs": [],
   "source": [
    "from IPython.display import display, Markdown, Latex"
   ]
  },
  {
   "cell_type": "code",
   "execution_count": 3,
   "metadata": {},
   "outputs": [],
   "source": [
    "table = table()"
   ]
  },
  {
   "cell_type": "code",
   "execution_count": 4,
   "metadata": {},
   "outputs": [],
   "source": [
    "regions = [Seoul().collect, \n",
    "               Daegu().collect,    \n",
    "               busan,   \n",
    "               daejeon,\n",
    "               gwangju,\n",
    "               ulsan,\n",
    "               incheon,\n",
    "               sejong,\n",
    "               gyeongbuk,\n",
    "               gyeongnam,\n",
    "               gyeonggi, \n",
    "               chungbuk,\n",
    "               chungnam,\n",
    "               gangwon,\n",
    "               jeonbuk,\n",
    "               jeonnam,\n",
    "               jeju,\n",
    "        ]"
   ]
  },
  {
   "cell_type": "code",
   "execution_count": 5,
   "metadata": {},
   "outputs": [
    {
     "name": "stdout",
     "output_type": "stream",
     "text": "# 강남구 : 13\n# 강동구 : 5\n# 강북구 : 5\n# 강서구 : 13\nSome characters could not be decoded, and were replaced with REPLACEMENT CHARACTER.\n# 관악구 : 15\n# 광진구 : 2\n# 구로구 : 15\n# 금천구 : 5\n# 노원구 : 13\n# 도봉구 : 1\n# 동대문구 : 19\n# 동작구 : 5\n# 마포구 : 6\n# 서대문구 : 6\n# 서초구 : 4\n# 성동구 : 3\n# 성북구 : 9\n# 송파구 : 14\n# 양천구 : 14\n# 영등포구 : 8\n# 용산구 : 2\n# 은평구 : 16\n# 종로구 : 11\n# 중구 : 1\n# 중랑구 : 4\n# 기타 : 17\npass :  서울\n#  북구 :  694\n#  달서구 :  1494\n#  남구 :  1309\n#  서구 :  377\n#  수성구 :  924\n#  중구 :  221\n#  동구 :  597\n#  달성군 :  365\npass :  대구\npass :  부산\npass :  대전\npass :  광주\npass :  울산\npass :  인천\npass :  세종\npass :  경상북도\npass :  경상남도\npass :  경기도\npass :  충청북도\npass :  충청남도\npass :  강원도\npass :  전라북도\npass :  전라남도\npass :  제주도\n"
    }
   ],
   "source": [
    "data = collector(regions)"
   ]
  },
  {
   "cell_type": "code",
   "execution_count": 6,
   "metadata": {},
   "outputs": [
    {
     "name": "stdout",
     "output_type": "stream",
     "text": "Save\n"
    },
    {
     "data": {
      "text/markdown": "\n\n|  지역  | 확진자 |  격리자  |  사망  |  의사환자  |  검사중  |  결과음성  |  자가격리자  |  감시중  |  감시해제  |  퇴원  |\n|:------:|:------:|:--------:|:--------:|:----------:|:--------:|:----------------:|:------------:|:--------:|:----------:|:--:|\n|**총합**|**7,948**|**7,407**|**66**|**69,406**|**8,475**|**81,754**|**19,981**|**5,925**|**12,479**|**475**|\n|서울|227|190|0|35,278|3,759|31,519|5,365|1,763|3,602|37|\n|대구|5,981|5,681|46|-|-|-|9,856|-|-|254|\n|부산|94|59|-|-|-|-|-|-|-|35|\n|대전|22|18|0|-|139|5,296|107|107|337|4|\n|광주|15|12|-|4,081|50|4,031|1,111|273|838|3|\n|울산|27|24|-|4,821|93|4,728|391|132|259|3|\n|인천|27|25|-|12,073|606|11,467|-|-|-|2|\n|세종|30|30|-|-|179|1,916|-|-|-|-|\n|경상북도|1,083|982|18|-|923|39|-|3,455|5,857|83|\n|경상남도|78|74|-|6,827|536|6,291|844|-|-|4|\n|경기도|179|149|2|-|-|-|-|-|-|28|\n|충청북도|27|23|-|6,326|247|6,079|1,571|158|1,416|4|\n|충청남도|114|108|0|-|1,351|9,187|443|-|-|6|\n|강원도|29|23|-|-|498|-|245|-|-|6|\n|전라북도|7|3|-|-|-|-|15|-|-|4|\n|전라남도|4|3|-|-|43|1,201|-|37|170|1|\n|제주도|4|3|0|-|51|-|33|-|-|1|\n|**총합**|**7,948**|**7,407**|**66**|**69,406**|**8,475**|**81,754**|**19,981**|**5,925**|**12,479**|**475**|\n\n",
      "text/plain": "<IPython.core.display.Markdown object>"
     },
     "metadata": {},
     "output_type": "display_data"
    }
   ],
   "source": [
    "display(Markdown('''\n",
    "{}\n",
    "'''.format(table.generate(data))))"
   ]
  },
  {
   "cell_type": "code",
   "execution_count": 7,
   "metadata": {},
   "outputs": [],
   "source": [
    "readme = open('README.md', mode='wt', encoding='utf-8')\n",
    "readme.write('''\n",
    "## 대한민국 우한 코로나 바이러스 감염자 실시간 통계\n",
    "{0} KST\n",
    "\n",
    "** 부산, 경상북도 홈페이지에 표시된 수치가 질병관리본부 발표보다 적습니다. **\n",
    "\n",
    "각 **시/도/구/군청** 사이트에 공개되어 있는 **공식 자료**를 수합하여 만든 통계입니다.\n",
    "질병관리본부에서 발표되는 공식 수치와는 다를 수 있습니다.\n",
    "\n",
    "{1}\n",
    "\n",
    "#1 확진자(중국인) 제외\n",
    "'''.format(kst_time(), table.Chart))\n",
    "readme.close()"
   ]
  },
  {
   "cell_type": "code",
   "execution_count": null,
   "metadata": {},
   "outputs": [],
   "source": [
    "#region_list = [seoul(), \n",
    "#               Daegu().collect(),    \n",
    "#               busan(),   \n",
    "#               daejeon(),\n",
    "#               gwangju(infected=13, quarantine=9, self_quarantine=1, care=3),\n",
    "#               ulsan(),\n",
    "#               incheon(),\n",
    "#               sejong(),\n",
    "#               gyeongbuk(),\n",
    "#               gyeongnam(),\n",
    "#               gyeonggi(), \n",
    "#               chungbuk(),\n",
    "#               chungnam(),\n",
    "#               gangwon(),\n",
    "#               jeonbuk(),\n",
    "#               jeonnam(),\n",
    "#               jeju(),\n",
    "#        ]"
   ]
  }
 ],
 "metadata": {
  "kernelspec": {
   "display_name": "Python 3",
   "language": "python",
   "name": "python3"
  },
  "language_info": {
   "codemirror_mode": {
    "name": "ipython",
    "version": 3
   },
   "file_extension": ".py",
   "mimetype": "text/x-python",
   "name": "python",
   "nbconvert_exporter": "python",
   "pygments_lexer": "ipython3",
   "version": "3.7.6-final"
  }
 },
 "nbformat": 4,
 "nbformat_minor": 4
}