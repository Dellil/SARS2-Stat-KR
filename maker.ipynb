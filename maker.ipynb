{
 "cells": [
  {
   "cell_type": "code",
   "execution_count": 1,
   "metadata": {},
   "outputs": [],
   "source": [
    "from util.table import table\n",
    "from util.region import *\n",
    "from util.Daegu import Daegu\n",
    "# from util.Gangwon import Gangwon\n",
    "from util.Seoul import Seoul\n",
    "from util.KST import kst_time\n",
    "from util.collector import collector"
   ]
  },
  {
   "cell_type": "code",
   "execution_count": 2,
   "metadata": {},
   "outputs": [],
   "source": [
    "from IPython.display import display, Markdown, Latex"
   ]
  },
  {
   "cell_type": "code",
   "execution_count": 3,
   "metadata": {},
   "outputs": [],
   "source": [
    "chart = table()"
   ]
  },
  {
   "cell_type": "code",
   "execution_count": 4,
   "metadata": {},
   "outputs": [],
   "source": [
    "regions = [Seoul().collect, \n",
    "               Daegu().collect,    \n",
    "               busan,   \n",
    "               daejeon,\n",
    "               gwangju,\n",
    "               ulsan,\n",
    "               incheon,\n",
    "               sejong,\n",
    "               gyeongbuk,\n",
    "               gyeongnam,\n",
    "               gyeonggi, \n",
    "               chungbuk,\n",
    "               chungnam,\n",
    "               gangwon,\n",
    "               jeonbuk,\n",
    "               jeonnam,\n",
    "               jeju,\n",
    "               foreign,\n",
    "        ]"
   ]
  },
  {
   "cell_type": "code",
   "execution_count": 5,
   "metadata": {},
   "outputs": [
    {
     "name": "stdout",
     "output_type": "stream",
     "text": [
      "# 강남구 : 38\n",
      "# 강동구 : 9\n",
      "# 강북구 : 5\n",
      "# 강서구 : 22\n",
      "# 관악구 : 28\n",
      "# 광진구 : 5\n",
      "# 구로구 : 32\n",
      "# 금천구 : 12\n",
      "# 노원구 : 22\n",
      "# 도봉구 : 6\n",
      "# 동대문구 : 26\n",
      "# 동작구 : 23\n",
      "# 마포구 : 15\n",
      "# 서대문구 : 13\n",
      "# 서초구 : 22\n",
      "# 성동구 : 6\n",
      "# 성북구 : 15\n",
      "# 송파구 : 24\n",
      "# 양천구 : 17\n",
      "# 영등포구 : 22\n"
     ]
    },
    {
     "name": "stderr",
     "output_type": "stream",
     "text": [
      "C:\\Users\\LK-LAB\\Miniconda3\\lib\\site-packages\\urllib3\\connectionpool.py:1004: InsecureRequestWarning: Unverified HTTPS request is being made to host 'www.ydp.go.kr'. Adding certificate verification is strongly advised. See: https://urllib3.readthedocs.io/en/latest/advanced-usage.html#ssl-warnings\n",
      "  InsecureRequestWarning,\n"
     ]
    },
    {
     "name": "stdout",
     "output_type": "stream",
     "text": [
      "# 용산구 : 8\n",
      "# 은평구 : 21\n",
      "# 종로구 : 13\n",
      "# 중구 : 2\n",
      "# 중랑구 : 13\n",
      "# 기타 : 27\n",
      "pass :  서울\n",
      "#  북구 :  781\n",
      "#  달서구 :  1589\n",
      "#  남구 :  1357\n",
      "#  서구 :  516\n",
      "#  수성구 :  1021\n",
      "#  중구 :  246\n",
      "#  동구 :  670\n",
      "#  달성군 :  543\n",
      "pass :  대구\n",
      "pass :  부산\n",
      "pass :  대전\n",
      "pass :  광주\n",
      "pass :  울산\n",
      "pass :  인천\n",
      "pass :  세종\n",
      "pass :  경상북도\n",
      "pass :  경상남도\n",
      "pass :  경기도\n",
      "pass :  충청북도\n",
      "pass :  충청남도\n",
      "pass :  강원도\n",
      "pass :  전라북도\n"
     ]
    },
    {
     "name": "stderr",
     "output_type": "stream",
     "text": [
      "C:\\Users\\LK-LAB\\Miniconda3\\lib\\site-packages\\urllib3\\connectionpool.py:1004: InsecureRequestWarning: Unverified HTTPS request is being made to host 'www.jeonnam.go.kr'. Adding certificate verification is strongly advised. See: https://urllib3.readthedocs.io/en/latest/advanced-usage.html#ssl-warnings\n",
      "  InsecureRequestWarning,\n"
     ]
    },
    {
     "name": "stdout",
     "output_type": "stream",
     "text": [
      "pass :  전라남도\n",
      "pass :  제주도\n",
      "pass :  검역\n"
     ]
    }
   ],
   "source": [
    "data = collector(regions)"
   ]
  },
  {
   "cell_type": "code",
   "execution_count": 6,
   "metadata": {},
   "outputs": [
    {
     "name": "stdout",
     "output_type": "stream",
     "text": [
      "Save\n"
     ]
    },
    {
     "data": {
      "text/markdown": [
       "\n",
       "\n",
       "|  지역  | 확진자 |  격리자  |  사망  |  의심환자  |  검사중  |  결과음성  |  자가격리자  |  감시중  |  감시해제  |  퇴원  |\n",
       "|:------:|:------:|:--------:|:--------:|:----------:|:--------:|:----------------:|:------------:|:--------:|:----------:|:--:|\n",
       "|**총합**|**9,769**|**4,335**|**157**|**118,425**|**6,956**|**158,206**|**15,659**|**4,957**|**20,594**|**5,222**|\n",
       "|서울|446|355|0|69,343|4,429|64,914|9,293|2,402|6,891|91|\n",
       "|대구|6,723|2,710|107|-|-|-|1,793|-|-|3,906|\n",
       "|부산|116|30|3|-|-|-|-|-|-|83|\n",
       "|대전|34|16|0|-|87|8,519|182|182|521|18|\n",
       "|광주|20|7|-|7,042|26|6,996|1,203|59|1,144|13|\n",
       "|울산|39|20|-|-|-|7,092|501|83|418|19|\n",
       "|인천|61|59|-|18,652|352|18,300|-|-|-|2|\n",
       "|세종|46|46|-|-|36|4,184|-|-|-|-|\n",
       "|경상북도|1,298|475|42|-|391|227|-|1,696|9,636|726|\n",
       "|경상남도|92|27|-|12,916|158|12,758|-|-|-|65|\n",
       "|경기도|466|304|5|-|-|-|-|-|-|157|\n",
       "|충청북도|44|23|-|10,472|98|10,374|2,115|356|1,759|21|\n",
       "|충청남도|128|40|0|-|411|17,281|127|-|-|88|\n",
       "|강원도|36|15|-|-|384|-|250|-|-|21|\n",
       "|전라북도|13|6|-|-|-|-|45|-|-|7|\n",
       "|전라남도|9|8|-|-|501|7,561|-|179|225|1|\n",
       "|제주도|9|5|0|-|83|-|150|-|-|4|\n",
       "|검역|189|189|-|-|-|-|-|-|-|-|\n",
       "|**총합**|**9,769**|**4,335**|**157**|**118,425**|**6,956**|**158,206**|**15,659**|**4,957**|**20,594**|**5,222**|\n",
       "\n"
      ],
      "text/plain": [
       "<IPython.core.display.Markdown object>"
      ]
     },
     "metadata": {},
     "output_type": "display_data"
    }
   ],
   "source": [
    "display(Markdown('''\n",
    "{}\n",
    "'''.format(chart.generate(data))))"
   ]
  },
  {
   "cell_type": "code",
   "execution_count": 7,
   "metadata": {},
   "outputs": [],
   "source": [
    "readme = open('README.md', mode='wt', encoding='utf-8')\n",
    "readme.write('''\n",
    "## 중국 우한 바이러스(SARS-CoV-2) 대한민국 확진자 통계\n",
    "### Confirmed cases of China-Virus in Korea\n",
    "{0} KST\n",
    "\n",
    "각 **시/도/구/군청** 사이트에 공개되어 있는 **공식 자료**를 수합하여 만든 통계입니다.\n",
    "질병관리본부에서 발표되는 공식 수치와는 다를 수 있습니다.\n",
    "\n",
    "{1}\n",
    "\n",
    "** 부산, 경상남도 홈페이지에 표시된 수치가 질병관리본부 발표보다 적습니다. **<br>\n",
    "#1 확진자(중국인) 제외\n",
    "'''.format(kst_time(), chart.Chart))\n",
    "readme.close()"
   ]
  },
  {
   "cell_type": "code",
   "execution_count": null,
   "metadata": {},
   "outputs": [],
   "source": [
    "#region_list = [seoul(), \n",
    "#               Daegu().collect(),    \n",
    "#               busan(),   \n",
    "#               daejeon(),\n",
    "#               gwangju(infected=13, quarantine=9, self_quarantine=1, care=3),\n",
    "#               ulsan(),\n",
    "#               incheon(),\n",
    "#               sejong(),\n",
    "#               gyeongbuk(),\n",
    "#               gyeongnam(),\n",
    "#               gyeonggi(), \n",
    "#               chungbuk(),\n",
    "#               chungnam(),\n",
    "#               gangwon(),\n",
    "#               jeonbuk(),\n",
    "#               jeonnam(),\n",
    "#               jeju(),\n",
    "#        ]"
   ]
  },
  {
   "cell_type": "code",
   "execution_count": null,
   "metadata": {},
   "outputs": [],
   "source": []
  }
 ],
 "metadata": {
  "kernelspec": {
   "display_name": "Python 3",
   "language": "python",
   "name": "python3"
  },
  "language_info": {
   "codemirror_mode": {
    "name": "ipython",
    "version": 3
   },
   "file_extension": ".py",
   "mimetype": "text/x-python",
   "name": "python",
   "nbconvert_exporter": "python",
   "pygments_lexer": "ipython3",
   "version": "3.7.6"
  }
 },
 "nbformat": 4,
 "nbformat_minor": 4
}
