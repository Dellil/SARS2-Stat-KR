{
 "cells": [
  {
   "cell_type": "code",
   "execution_count": 1,
   "metadata": {},
   "outputs": [],
   "source": [
    "from util.table import table\n",
    "from util.region import *\n",
    "from util.Daegu import Daegu\n",
    "# from util.Gangwon import Gangwon\n",
    "from util.Seoul import Seoul\n",
    "from util.KST import kst_time\n",
    "from util.collector import collector"
   ]
  },
  {
   "cell_type": "code",
   "execution_count": 2,
   "metadata": {},
   "outputs": [],
   "source": [
    "from IPython.display import display, Markdown, Latex"
   ]
  },
  {
   "cell_type": "code",
   "execution_count": 3,
   "metadata": {},
   "outputs": [],
   "source": [
    "chart = table()"
   ]
  },
  {
   "cell_type": "code",
   "execution_count": 4,
   "metadata": {},
   "outputs": [],
   "source": [
    "regions = [Seoul().collect, \n",
    "               Daegu().collect,    \n",
    "               busan,   \n",
    "               daejeon,\n",
    "               gwangju,\n",
    "               ulsan,\n",
    "               incheon,\n",
    "               sejong,\n",
    "               gyeongbuk,\n",
    "               gyeongnam,\n",
    "               gyeonggi, \n",
    "               chungbuk,\n",
    "               chungnam,\n",
    "               gangwon,\n",
    "               jeonbuk,\n",
    "               jeonnam,\n",
    "               jeju,\n",
    "               foreign,\n",
    "        ]"
   ]
  },
  {
   "cell_type": "code",
   "execution_count": 5,
   "metadata": {},
   "outputs": [
    {
     "name": "stdout",
     "output_type": "stream",
     "text": [
      "# 강남구 : 19\n",
      "# 강동구 : 8\n",
      "# 강북구 : 5\n",
      "# 강서구 : 20\n",
      "# 관악구 : 19\n",
      "# 광진구 : 4\n",
      "# 구로구 : 23\n",
      "# 금천구 : 5\n",
      "# 노원구 : 21\n",
      "# 도봉구 : 4\n",
      "# 동대문구 : 25\n",
      "# 동작구 : 14\n",
      "# 마포구 : 13\n",
      "# 서대문구 : 12\n",
      "# 서초구 : 12\n",
      "# 성동구 : 6\n",
      "# 성북구 : 13\n",
      "# 송파구 : 19\n",
      "# 양천구 : 16\n",
      "# 영등포구 : 18\n"
     ]
    },
    {
     "name": "stderr",
     "output_type": "stream",
     "text": [
      "C:\\Users\\LK-LAB\\Miniconda3\\lib\\site-packages\\urllib3\\connectionpool.py:1004: InsecureRequestWarning: Unverified HTTPS request is being made to host 'www.ydp.go.kr'. Adding certificate verification is strongly advised. See: https://urllib3.readthedocs.io/en/latest/advanced-usage.html#ssl-warnings\n",
      "  InsecureRequestWarning,\n"
     ]
    },
    {
     "name": "stdout",
     "output_type": "stream",
     "text": [
      "# 용산구 : 7\n",
      "# 은평구 : 20\n",
      "# 종로구 : 12\n",
      "# 중구 : 1\n",
      "# 중랑구 : 10\n",
      "# 기타 : 18\n",
      "pass :  서울\n",
      "#  북구 :  774\n",
      "#  달서구 :  1572\n",
      "#  남구 :  1346\n",
      "#  서구 :  492\n",
      "#  수성구 :  1004\n",
      "#  중구 :  244\n",
      "#  동구 :  653\n",
      "#  달성군 :  449\n",
      "pass :  대구\n",
      "pass :  부산\n",
      "pass :  대전\n",
      "pass :  광주\n",
      "pass :  울산\n",
      "pass :  인천\n",
      "pass :  세종\n",
      "pass :  경상북도\n",
      "pass :  경상남도\n",
      "pass :  경기도\n",
      "pass :  충청북도\n",
      "pass :  충청남도\n",
      "pass :  강원도\n",
      "pass :  전라북도\n"
     ]
    },
    {
     "name": "stderr",
     "output_type": "stream",
     "text": [
      "C:\\Users\\LK-LAB\\Miniconda3\\lib\\site-packages\\urllib3\\connectionpool.py:1004: InsecureRequestWarning: Unverified HTTPS request is being made to host 'www.jeonnam.go.kr'. Adding certificate verification is strongly advised. See: https://urllib3.readthedocs.io/en/latest/advanced-usage.html#ssl-warnings\n",
      "  InsecureRequestWarning,\n"
     ]
    },
    {
     "name": "stdout",
     "output_type": "stream",
     "text": [
      "pass :  전라남도\n",
      "pass :  제주도\n",
      "pass :  검역\n"
     ]
    }
   ],
   "source": [
    "data = collector(regions)"
   ]
  },
  {
   "cell_type": "code",
   "execution_count": 6,
   "metadata": {},
   "outputs": [
    {
     "name": "stdout",
     "output_type": "stream",
     "text": [
      "Save\n"
     ]
    },
    {
     "data": {
      "text/markdown": [
       "\n",
       "\n",
       "|  지역  | 확진자 |  격리자  |  사망  |  의사환자  |  검사중  |  결과음성  |  자가격리자  |  감시중  |  감시해제  |  퇴원  |\n",
       "|:------:|:------:|:--------:|:--------:|:----------:|:--------:|:----------------:|:------------:|:--------:|:----------:|:--:|\n",
       "|**총합**|**9,064**|**5,429**|**118**|**49,741**|**7,610**|**137,912**|**14,622**|**4,337**|**18,464**|**3,517**|**59,913**|\n",
       "|서울|344|273|0|-|4,260|55,887|7,994|2,229|5,765|71|59,913|\n",
       "|대구|6,534|3,844|84|-|-|-|2,774|-|-|2,606|-|\n",
       "|부산|108|38|1|-|-|-|-|-|-|69|-|\n",
       "|대전|25|19|0|-|149|7,535|55|55|469|6|-|\n",
       "|광주|19|8|-|6,340|120|6,201|1,193|84|1,109|11|-|\n",
       "|울산|37|18|-|6,557|48|6,509|436|44|392|19|-|\n",
       "|인천|42|40|-|16,071|338|15,733|-|-|-|2|-|\n",
       "|세종|44|44|-|-|36|3,649|-|-|-|-|-|\n",
       "|경상북도|1,203|692|29|-|1,460|70|-|1,635|8,872|482|-|\n",
       "|경상남도|86|37|-|11,716|269|11,447|-|-|-|49|-|\n",
       "|경기도|363|261|4|-|-|-|-|-|-|98|-|\n",
       "|충청북도|38|25|-|9,057|146|8,911|1,895|250|1,645|13|-|\n",
       "|충청남도|122|57|0|-|350|15,753|128|-|-|65|-|\n",
       "|강원도|30|16|-|-|190|-|44|-|-|14|-|\n",
       "|전라북도|10|3|-|-|-|-|68|-|-|7|-|\n",
       "|전라남도|8|7|-|-|196|6,217|-|40|212|1|-|\n",
       "|제주도|4|0|0|-|48|-|35|-|-|4|-|\n",
       "|검역|47|47|-|-|-|-|-|-|-|-|-|\n",
       "|**총합**|**9,064**|**5,429**|**118**|**49,741**|**7,610**|**137,912**|**14,622**|**4,337**|**18,464**|**3,517**|**59,913**|\n",
       "\n"
      ],
      "text/plain": [
       "<IPython.core.display.Markdown object>"
      ]
     },
     "metadata": {},
     "output_type": "display_data"
    }
   ],
   "source": [
    "display(Markdown('''\n",
    "{}\n",
    "'''.format(chart.generate(data))))"
   ]
  },
  {
   "cell_type": "code",
   "execution_count": 7,
   "metadata": {},
   "outputs": [],
   "source": [
    "readme = open('README.md', mode='wt', encoding='utf-8')\n",
    "readme.write('''\n",
    "## 중국 우한 바이러스(SARS-CoV-2) 대한민국 확진자 통계\n",
    "### Confirmed cases of China-Virus in Korea\n",
    "{0} KST\n",
    "\n",
    "각 **시/도/구/군청** 사이트에 공개되어 있는 **공식 자료**를 수합하여 만든 통계입니다.\n",
    "질병관리본부에서 발표되는 공식 수치와는 다를 수 있습니다.\n",
    "\n",
    "{1}\n",
    "\n",
    "** 부산, 경상북도 홈페이지에 표시된 수치가 질병관리본부 발표보다 적습니다. **<br>\n",
    "#1 확진자(중국인) 제외\n",
    "'''.format(kst_time(), chart.Chart))\n",
    "readme.close()"
   ]
  },
  {
   "cell_type": "code",
   "execution_count": null,
   "metadata": {},
   "outputs": [],
   "source": [
    "#region_list = [seoul(), \n",
    "#               Daegu().collect(),    \n",
    "#               busan(),   \n",
    "#               daejeon(),\n",
    "#               gwangju(infected=13, quarantine=9, self_quarantine=1, care=3),\n",
    "#               ulsan(),\n",
    "#               incheon(),\n",
    "#               sejong(),\n",
    "#               gyeongbuk(),\n",
    "#               gyeongnam(),\n",
    "#               gyeonggi(), \n",
    "#               chungbuk(),\n",
    "#               chungnam(),\n",
    "#               gangwon(),\n",
    "#               jeonbuk(),\n",
    "#               jeonnam(),\n",
    "#               jeju(),\n",
    "#        ]"
   ]
  },
  {
   "cell_type": "code",
   "execution_count": null,
   "metadata": {},
   "outputs": [],
   "source": []
  }
 ],
 "metadata": {
  "kernelspec": {
   "display_name": "Python 3",
   "language": "python",
   "name": "python3"
  },
  "language_info": {
   "codemirror_mode": {
    "name": "ipython",
    "version": 3
   },
   "file_extension": ".py",
   "mimetype": "text/x-python",
   "name": "python",
   "nbconvert_exporter": "python",
   "pygments_lexer": "ipython3",
   "version": "3.7.6"
  }
 },
 "nbformat": 4,
 "nbformat_minor": 4
}
